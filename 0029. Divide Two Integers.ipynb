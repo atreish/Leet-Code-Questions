{
 "cells": [
  {
   "cell_type": "markdown",
   "id": "a7728a26",
   "metadata": {},
   "source": [
    "Given two integers dividend and divisor, divide two integers without using multiplication, division, and mod operator.\n",
    "\n",
    "The integer division should truncate toward zero, which means losing its fractional part. For example, 8.345 would be truncated to 8, and -2.7335 would be truncated to -2.\n",
    "\n",
    "Return the quotient after dividing dividend by divisor.\n",
    "\n",
    "Note: Assume we are dealing with an environment that could only store integers within the 32-bit signed integer range: [−2^31, 2^31 − 1]. For this problem, if the quotient is strictly greater than 2^31 - 1, then return 2^31 - 1, and if the quotient is strictly less than -2^31, then return -2^31."
   ]
  },
  {
   "cell_type": "code",
   "execution_count": 1,
   "id": "3d1a2f01",
   "metadata": {},
   "outputs": [],
   "source": [
    "class Solution:\n",
    "    def divide(self, dividend: int, divisor: int) -> int:\n",
    "        # Calculate the Sign of the output\n",
    "        positive_sign = (dividend > 0 and divisor > 0) or (dividend < 0 and divisor < 0)\n",
    "        \n",
    "        # Calculate the 32-bit absolute value of the inputs. \n",
    "        '''\n",
    "        If the value is -2**31 ==> abs(-2**31) = 2**31 which is above the range of a \n",
    "        32-bit signed integer ( range: [−2**31, 2**31 − 1] ).\n",
    "        This is the only case in which the abs will overflow the 32-bit Integer.\n",
    "        So we check if this is the value, and if it is, we such assing the closest value\n",
    "        inside the range 2**31 - 1.\n",
    "        '''\n",
    "        abs_dividend = (2**31 - 1) if (dividend == -2**31 and positive_sign) else abs(dividend)\n",
    "        abs_divisor = (2**31 - 1) if (divisor == -2**31  and positive_sign) else abs(divisor)\n",
    "        \n",
    "        # Main Loop, calculate the quotient \n",
    "        '''\n",
    "        Iterate substracting each time the divisor to the dividend\n",
    "\n",
    "        Each time double the value of the dividend by adding to itself.\n",
    "        Also double the value of the count by adding to itself.\n",
    "        When we go out of range, reset the divisor to the original value \n",
    "        and the counter to 1, and restart the process\n",
    "        '''\n",
    "        quotient = 0\n",
    "        while abs_dividend >= abs_divisor:\n",
    "            abs_divisor_2 = abs_divisor\n",
    "            count = 1\n",
    "            while abs_dividend >= abs_divisor_2:\n",
    "                quotient += count\n",
    "                count += count\n",
    "                abs_dividend -= abs_divisor_2\n",
    "                abs_divisor_2 += abs_divisor_2\n",
    "\n",
    "        # Return the signed version of the quotient\n",
    "        if positive_sign:\n",
    "            return quotient\n",
    "        else:\n",
    "            return -quotient"
   ]
  },
  {
   "cell_type": "code",
   "execution_count": 2,
   "id": "c19be84f",
   "metadata": {},
   "outputs": [
    {
     "name": "stdout",
     "output_type": "stream",
     "text": [
      "dividend: 10, divisor: 3, Output: 3\n"
     ]
    }
   ],
   "source": [
    "solver = Solution\n",
    "\n",
    "dividend = 10\n",
    "divisor = 3\n",
    "print(f\"dividend: {dividend}, divisor: {divisor}, Output: {solver.divide(solver, dividend, divisor)}\")"
   ]
  },
  {
   "cell_type": "code",
   "execution_count": 3,
   "id": "9505671d",
   "metadata": {},
   "outputs": [
    {
     "name": "stdout",
     "output_type": "stream",
     "text": [
      "dividend: 7, divisor: -3, Output: -2\n"
     ]
    }
   ],
   "source": [
    "dividend = 7\n",
    "divisor = -3\n",
    "print(f\"dividend: {dividend}, divisor: {divisor}, Output: {solver.divide(solver, dividend, divisor)}\")"
   ]
  }
 ],
 "metadata": {
  "kernelspec": {
   "display_name": "Python 3 (ipykernel)",
   "language": "python",
   "name": "python3"
  },
  "language_info": {
   "codemirror_mode": {
    "name": "ipython",
    "version": 3
   },
   "file_extension": ".py",
   "mimetype": "text/x-python",
   "name": "python",
   "nbconvert_exporter": "python",
   "pygments_lexer": "ipython3",
   "version": "3.8.2"
  }
 },
 "nbformat": 4,
 "nbformat_minor": 5
}
