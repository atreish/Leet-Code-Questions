{
 "cells": [
  {
   "cell_type": "code",
   "execution_count": 6,
   "id": "251f3f58",
   "metadata": {},
   "outputs": [],
   "source": [
    "from typing import List"
   ]
  },
  {
   "cell_type": "markdown",
   "id": "a7728a26",
   "metadata": {},
   "source": [
    "There is an integer array nums sorted in ascending order (with distinct values).\n",
    "\n",
    "Prior to being passed to your function, nums is possibly rotated at an unknown pivot index k (1 <= k < nums.length) such that the resulting array is [nums[k], nums[k+1], ..., nums[n-1], nums[0], nums[1], ..., nums[k-1]] (0-indexed). For example, [0,1,2,4,5,6,7] might be rotated at pivot index 3 and become [4,5,6,7,0,1,2].\n",
    "\n",
    "Given the array nums after the possible rotation and an integer target, return the index of target if it is in nums, or -1 if it is not in nums.\n",
    "\n",
    "You must write an algorithm with O(log n) runtime complexity."
   ]
  },
  {
   "cell_type": "code",
   "execution_count": 7,
   "id": "3d1a2f01",
   "metadata": {},
   "outputs": [],
   "source": [
    "class Solution:\n",
    "    def search(self, nums: List[int], target: int) -> int:\n",
    "        l = 0\n",
    "        r = len(nums)-1\n",
    "\n",
    "        first_val = nums[l]\n",
    "        last_val = nums[r]\n",
    "\n",
    "        pointer = (r-l)//2\n",
    "\n",
    "        while nums[pointer] != target:\n",
    "            \n",
    "            if l==r: return -1\n",
    "            \n",
    "            #a situation where the length of the list or remaining length of list is 2\n",
    "            if ((r-l)//2) == 0: \n",
    "                if nums[l]==target:\n",
    "                    return l\n",
    "                elif nums[r]==target:\n",
    "                    return r\n",
    "                else:\n",
    "                    return -1\n",
    "            \n",
    "            val = nums[pointer]\n",
    "            loop_right = val > last_val # Loop to the right of the current value\n",
    "            loop_left = val < first_val # Loop to the left of the current value\n",
    "\n",
    "            if val < target:\n",
    "                # move to Right\n",
    "                if loop_left and target > last_val:\n",
    "                    # move to Left\n",
    "                    r = pointer\n",
    "                    last_val = nums[r]\n",
    "                else:\n",
    "                    # move to Right\n",
    "                    l = pointer\n",
    "                    first_val = nums[l]\n",
    "            else:\n",
    "                \n",
    "                # move to Left\n",
    "                if loop_right and target < first_val:\n",
    "                    \n",
    "                    # move to Right\n",
    "                    l = pointer\n",
    "                    first_val = nums[l]\n",
    "                else:\n",
    "                    \n",
    "                    # move to Left\n",
    "                    r = pointer\n",
    "                    last_val = nums[r]\n",
    "\n",
    "            pointer = l + ((r-l)//2)\n",
    "            \n",
    "        return pointer\n"
   ]
  },
  {
   "cell_type": "code",
   "execution_count": 12,
   "id": "c19be84f",
   "metadata": {},
   "outputs": [
    {
     "name": "stdout",
     "output_type": "stream",
     "text": [
      "nums: [4, 5, 6, 7, 0, 1, 2], target: 0, Output: 4\n",
      "nums: [4, 5, 6, 7, 0, 1, 2], target: 3, Output: -1\n",
      "nums: [4, 5, 6, 7, 8, 1, 2, 3], target: 8, Output: 4\n",
      "nums: [4, 5, 6, 7, 8, 1, 2, 3], target: 5, Output: 1\n",
      "nums: [4, 5, 6, 7, 8, 1, 2, 3], target: 2, Output: 6\n",
      "nums: [7, 8, 1, 2, 3, 4, 5, 6], target: 3, Output: 4\n",
      "nums: [7, 8, 1, 2, 3, 4, 5, 6], target: 8, Output: 1\n",
      "nums: [7, 8, 1, 2, 3, 4, 5, 6], target: 1, Output: 2\n"
     ]
    }
   ],
   "source": [
    "solver = Solution\n",
    "\n",
    "nums = [4,5,6,7,0,1,2]\n",
    "target = 0\n",
    "print(f\"nums: {nums}, target: {target}, Output: {solver.search(solver, nums, target)}\")\n",
    "\n",
    "nums = [4,5,6,7,0,1,2]\n",
    "target = 3\n",
    "print(f\"nums: {nums}, target: {target}, Output: {solver.search(solver, nums, target)}\")\n",
    "\n",
    "nums = [4,5,6,7,8,1,2,3]\n",
    "target = 8\n",
    "print(f\"nums: {nums}, target: {target}, Output: {solver.search(solver, nums, target)}\")\n",
    "\n",
    "nums = [4,5,6,7,8,1,2,3]\n",
    "target = 5\n",
    "print(f\"nums: {nums}, target: {target}, Output: {solver.search(solver, nums, target)}\")\n",
    "\n",
    "nums = [4,5,6,7,8,1,2,3]\n",
    "target = 2\n",
    "print(f\"nums: {nums}, target: {target}, Output: {solver.search(solver, nums, target)}\")\n",
    "\n",
    "nums = [7,8,1,2,3,4,5,6]\n",
    "target = 3\n",
    "print(f\"nums: {nums}, target: {target}, Output: {solver.search(solver, nums, target)}\")\n",
    "\n",
    "nums = [7,8,1,2,3,4,5,6]\n",
    "target = 8\n",
    "print(f\"nums: {nums}, target: {target}, Output: {solver.search(solver, nums, target)}\")\n",
    "\n",
    "nums = [7,8,1,2,3,4,5,6]\n",
    "target = 1\n",
    "print(f\"nums: {nums}, target: {target}, Output: {solver.search(solver, nums, target)}\")"
   ]
  },
  {
   "cell_type": "markdown",
   "id": "56ba3eeb",
   "metadata": {},
   "source": [
    "# Logic"
   ]
  },
  {
   "cell_type": "markdown",
   "id": "3e583036",
   "metadata": {},
   "source": [
    "- val is the value pointed by the pointer is the value in the middle of First and Last. \n",
    "- First is the left value of the interval\n",
    "- Last is the Right value of the interval\n",
    "- Target is the value we are looking for\n",
    "\n",
    "\n",
    "- move Right, means that we have to move the new interval to the second half of the interval\n",
    "- move Left, means that we have to move the new interval to the first half of the interval"
   ]
  },
  {
   "cell_type": "raw",
   "id": "0fa847c3",
   "metadata": {},
   "source": [
    "[4,5,6,7,8,1,2,3]\n",
    "target = 8\n",
    "val > Last ==> Loop Right\n",
    "val < First ==> Loop Left\n",
    "\n",
    "val < target && not Loop Right ==> move Right\n",
    "val < target &&     Loop Left  ==> |\n",
    "                                   |_   target <= Last  ==> move Right\n",
    "                                   |_   target > Last   ==> move Left\n",
    "\n",
    "val > target && not Loop Left  ==> move Left\n",
    "val > target &&     Loop Right ==> | \n",
    "                                   |_   target >= First ==> move Left\n",
    "                                   |_   target < First  ==> move Right"
   ]
  },
  {
   "cell_type": "raw",
   "id": "ecb6075d",
   "metadata": {},
   "source": [
    "[7,8,1,2,3,4,5,6]\n",
    "target = 8\n",
    "val > Last ==> Loop Right\n",
    "val < First ==> Loop Left\n",
    "\n",
    "val < target && not Loop Right ==> move Right\n",
    "val < target &&     Loop Left  ==> |\n",
    "                                   |_   target <= Last  ==> move Right\n",
    "                                   |_   target > Last   ==> move Left\n",
    "\n",
    "val > target && not Loop Left  ==> move Left\n",
    "val > target &&     Loop Right ==> | \n",
    "                                   |_   target >= First ==> move Left\n",
    "                                   |_   target < First  ==> move Right"
   ]
  }
 ],
 "metadata": {
  "kernelspec": {
   "display_name": "Python 3 (ipykernel)",
   "language": "python",
   "name": "python3"
  },
  "language_info": {
   "codemirror_mode": {
    "name": "ipython",
    "version": 3
   },
   "file_extension": ".py",
   "mimetype": "text/x-python",
   "name": "python",
   "nbconvert_exporter": "python",
   "pygments_lexer": "ipython3",
   "version": "3.8.2"
  }
 },
 "nbformat": 4,
 "nbformat_minor": 5
}
