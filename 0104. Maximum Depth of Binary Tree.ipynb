{
 "cells": [
  {
   "cell_type": "markdown",
   "id": "7fd6848b",
   "metadata": {},
   "source": [
    "104. Maximum Depth of Binary Tree\n",
    "\n",
    "Given the root of a binary tree, return its maximum depth.\n",
    "\n",
    "A binary tree's maximum depth is the number of nodes along the longest path from the root node down to the farthest leaf node."
   ]
  },
  {
   "cell_type": "code",
   "execution_count": 2,
   "id": "f3f9a0a7",
   "metadata": {},
   "outputs": [],
   "source": [
    "def maxDepth(root) -> int:\n",
    "\n",
    "    def length(node):\n",
    "        if node:\n",
    "            len1 = length(node.left)\n",
    "            len2 = length(node.right)\n",
    "            return max(len1,len2) + 1\n",
    "        else:\n",
    "            return 0\n",
    "\n",
    "    return length(root)"
   ]
  },
  {
   "cell_type": "code",
   "execution_count": 3,
   "id": "137d7677",
   "metadata": {},
   "outputs": [],
   "source": [
    "'''To be able to test a tree, first we need to convert a list of values into a TreeNode class datatype\n",
    "which is completed with the code in this block'''\n",
    "\n",
    "class TreeNode(object):\n",
    "    def __init__(self, x):\n",
    "        self.val = x\n",
    "        self.left = None\n",
    "        self.right = None\n",
    "\n",
    "\n",
    "def creatBTree(data, index):\n",
    "        pNode = None\n",
    "        if index < len(data):\n",
    "            if data[index] == None:\n",
    "                return\n",
    "            pNode = TreeNode(data[index])\n",
    "            pNode.left = creatBTree(data, 2 * index + 1) \n",
    "            pNode.right = creatBTree(data, 2 * index + 2) \n",
    "        return pNode "
   ]
  },
  {
   "cell_type": "code",
   "execution_count": 4,
   "id": "c443cf08",
   "metadata": {},
   "outputs": [
    {
     "data": {
      "text/plain": [
       "3"
      ]
     },
     "execution_count": 4,
     "metadata": {},
     "output_type": "execute_result"
    }
   ],
   "source": [
    "root_eg1 = [1,2,2,3,4,4,3]\n",
    "root_eg1 = creatBTree(root_eg1, 0)\n",
    "maxDepth(root_eg1)"
   ]
  },
  {
   "cell_type": "code",
   "execution_count": 6,
   "id": "fc1de6fe",
   "metadata": {},
   "outputs": [
    {
     "data": {
      "text/plain": [
       "5"
      ]
     },
     "execution_count": 6,
     "metadata": {},
     "output_type": "execute_result"
    }
   ],
   "source": [
    "root_eg2 = [2,3,3,4,3,5,4,3,4,1,2,1,2,4,3,1,3,5,6,2,2,3,5,0]\n",
    "root_eg2 = creatBTree(root_eg2, 0)\n",
    "maxDepth(root_eg2)"
   ]
  }
 ],
 "metadata": {
  "kernelspec": {
   "display_name": "Python 3 (ipykernel)",
   "language": "python",
   "name": "python3"
  },
  "language_info": {
   "codemirror_mode": {
    "name": "ipython",
    "version": 3
   },
   "file_extension": ".py",
   "mimetype": "text/x-python",
   "name": "python",
   "nbconvert_exporter": "python",
   "pygments_lexer": "ipython3",
   "version": "3.8.2"
  }
 },
 "nbformat": 4,
 "nbformat_minor": 5
}
