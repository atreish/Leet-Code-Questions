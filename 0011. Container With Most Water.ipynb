{
 "cells": [
  {
   "cell_type": "raw",
   "id": "fb53513d",
   "metadata": {},
   "source": [
    "11. Container With Most Water\n",
    "\n",
    "You are given an integer array height of length n. There are n vertical lines drawn such that the two endpoints of the ith line are (i, 0) and (i, height[i]). Find two lines that together with the x-axis form a container, such that the container contains the most water. Return the maximum amount of water a container can store.\n",
    "\n",
    "Notice that you may not slant the container."
   ]
  },
  {
   "cell_type": "code",
   "execution_count": 14,
   "id": "e9a8645b",
   "metadata": {},
   "outputs": [],
   "source": [
    "    def maxArea(height) -> int:\n",
    "        leng = min(len(height), 10**5)\n",
    "        max_area = 0\n",
    "        i = 0\n",
    "        j = leng-1\n",
    "        size_left = True\n",
    "        while i<j:\n",
    "            val1 = height[i]\n",
    "            val2 = height[j]\n",
    "            print(f\"Comparison Pos: {i}, {j}\")\n",
    "\n",
    "            new_area = (j-i) * min(val1,val2)\n",
    "            if new_area > max_area:\n",
    "                 max_area = new_area\n",
    "\n",
    "            if size_left:\n",
    "                if val1 >= val2:\n",
    "                    j -= 1\n",
    "                    size_left = False\n",
    "                    continue\n",
    "                i += 1\n",
    "            else:\n",
    "                if val2 >= val1:\n",
    "                    i += 1\n",
    "                    size_left = True\n",
    "                    continue\n",
    "                j -= 1\n",
    "        return max_area"
   ]
  },
  {
   "cell_type": "code",
   "execution_count": 15,
   "id": "7bcb15d5",
   "metadata": {},
   "outputs": [
    {
     "name": "stdout",
     "output_type": "stream",
     "text": [
      "Comparison Pos: 0, 8\n",
      "Comparison Pos: 1, 8\n",
      "Comparison Pos: 1, 7\n",
      "Comparison Pos: 1, 6\n",
      "Comparison Pos: 2, 6\n",
      "Comparison Pos: 3, 6\n",
      "Comparison Pos: 4, 6\n",
      "Comparison Pos: 5, 6\n"
     ]
    },
    {
     "data": {
      "text/plain": [
       "49"
      ]
     },
     "execution_count": 15,
     "metadata": {},
     "output_type": "execute_result"
    }
   ],
   "source": [
    "height = [1,8,6,2,5,4,8,3,7]\n",
    "maxArea(height)"
   ]
  }
 ],
 "metadata": {
  "kernelspec": {
   "display_name": "Python 3 (ipykernel)",
   "language": "python",
   "name": "python3"
  },
  "language_info": {
   "codemirror_mode": {
    "name": "ipython",
    "version": 3
   },
   "file_extension": ".py",
   "mimetype": "text/x-python",
   "name": "python",
   "nbconvert_exporter": "python",
   "pygments_lexer": "ipython3",
   "version": "3.8.2"
  }
 },
 "nbformat": 4,
 "nbformat_minor": 5
}
