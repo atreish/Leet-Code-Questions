{
 "cells": [
  {
   "cell_type": "markdown",
   "id": "4941112c",
   "metadata": {},
   "source": [
    "136. Single Number\n",
    "\n",
    "Given a non-empty array of integers nums, every element appears twice except for one. Find that single one.\n",
    "\n",
    "You must implement a solution with a linear runtime complexity and use only constant extra space."
   ]
  },
  {
   "cell_type": "code",
   "execution_count": 1,
   "id": "e36f821c",
   "metadata": {},
   "outputs": [],
   "source": [
    "from typing import List\n",
    "\n",
    "def singleNumber(nums: List[int]) -> int:\n",
    "   \n",
    "    for i in range(1,len(nums)):\n",
    "        nums[0] ^= nums[i]\n",
    "    return nums[0]  "
   ]
  },
  {
   "cell_type": "code",
   "execution_count": 2,
   "id": "4f462181",
   "metadata": {},
   "outputs": [
    {
     "data": {
      "text/plain": [
       "5"
      ]
     },
     "execution_count": 2,
     "metadata": {},
     "output_type": "execute_result"
    }
   ],
   "source": [
    "nums = [1,1,2,2,3,3,4,4,5]\n",
    "singleNumber(nums)"
   ]
  }
 ],
 "metadata": {
  "kernelspec": {
   "display_name": "Python 3 (ipykernel)",
   "language": "python",
   "name": "python3"
  },
  "language_info": {
   "codemirror_mode": {
    "name": "ipython",
    "version": 3
   },
   "file_extension": ".py",
   "mimetype": "text/x-python",
   "name": "python",
   "nbconvert_exporter": "python",
   "pygments_lexer": "ipython3",
   "version": "3.8.2"
  }
 },
 "nbformat": 4,
 "nbformat_minor": 5
}
