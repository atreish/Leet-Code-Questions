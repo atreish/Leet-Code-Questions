{
 "cells": [
  {
   "cell_type": "markdown",
   "id": "fe11dc2e",
   "metadata": {},
   "source": [
    "You are given an integer array nums. You are initially positioned at the array's first index, and each element in the array represents your maximum jump length at that position.\n",
    "\n",
    "Return true if you can reach the last index, or false otherwise."
   ]
  },
  {
   "cell_type": "code",
   "execution_count": 4,
   "id": "bbe4a676",
   "metadata": {},
   "outputs": [],
   "source": [
    "from typing import List\n",
    "\n",
    "class Solution:\n",
    "    def canJump(self, nums: List[int]) -> bool:\n",
    "        \n",
    "        def rec(position):\n",
    "            if position >= len(nums)-1: return True\n",
    "            value = nums[position]\n",
    "            for i in range(value):\n",
    "                output = rec(position+i+1)\n",
    "                if output: return True\n",
    "            return False\n",
    "        return rec(0) "
   ]
  },
  {
   "cell_type": "code",
   "execution_count": 5,
   "id": "5bc93cd0",
   "metadata": {},
   "outputs": [
    {
     "data": {
      "text/plain": [
       "True"
      ]
     },
     "execution_count": 5,
     "metadata": {},
     "output_type": "execute_result"
    }
   ],
   "source": [
    "nums = [2,3,1,1,4]\n",
    "solver = Solution\n",
    "solver.canJump(solver, nums)"
   ]
  },
  {
   "cell_type": "code",
   "execution_count": 6,
   "id": "691a7f35",
   "metadata": {},
   "outputs": [],
   "source": [
    "class Solution:\n",
    "    def canJump(self, nums: List[int]) -> bool:\n",
    "        if len(nums)==1: return True\n",
    "        \n",
    "        nexts = nums[0]\n",
    "        val = nums[0]\n",
    "        for i in range(1,len(nums)):\n",
    "            if nexts <= 0:\n",
    "                break\n",
    "            nexts -= 1\n",
    "            val = nums[i]\n",
    "            nexts = max(val, nexts)\n",
    "\n",
    "            if i + nexts >= len(nums)-1: return True\n",
    "        \n",
    "        return False"
   ]
  },
  {
   "cell_type": "code",
   "execution_count": 7,
   "id": "b65397d0",
   "metadata": {},
   "outputs": [
    {
     "data": {
      "text/plain": [
       "True"
      ]
     },
     "execution_count": 7,
     "metadata": {},
     "output_type": "execute_result"
    }
   ],
   "source": [
    "nums = [2,3,1,1,4]\n",
    "solver = Solution\n",
    "solver.canJump(solver, nums)"
   ]
  }
 ],
 "metadata": {
  "kernelspec": {
   "display_name": "Python 3 (ipykernel)",
   "language": "python",
   "name": "python3"
  },
  "language_info": {
   "codemirror_mode": {
    "name": "ipython",
    "version": 3
   },
   "file_extension": ".py",
   "mimetype": "text/x-python",
   "name": "python",
   "nbconvert_exporter": "python",
   "pygments_lexer": "ipython3",
   "version": "3.8.2"
  }
 },
 "nbformat": 4,
 "nbformat_minor": 5
}
