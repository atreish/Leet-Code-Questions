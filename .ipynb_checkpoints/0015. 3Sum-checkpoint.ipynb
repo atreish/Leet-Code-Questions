{
 "cells": [
  {
   "cell_type": "markdown",
   "id": "10685653",
   "metadata": {},
   "source": [
    "15. 3Sum\n",
    "\n",
    "Given an integer array nums, return all the triplets [nums[i], nums[j], nums[k]] such that i != j, i != k, and j != k, and nums[i] + nums[j] + nums[k] == 0. Notice that the solution set must not contain duplicate triplets."
   ]
  },
  {
   "cell_type": "code",
   "execution_count": 1,
   "id": "4472a735",
   "metadata": {},
   "outputs": [],
   "source": [
    "from typing import List\n",
    "\n",
    "def threeSum(nums: List[int]) -> List[List[int]]:\n",
    "    \n",
    "    #Create an empty set and 3 empty lists for number filters\n",
    "\tres = set()\n",
    "\tn, p, z = [], [], []\n",
    "    \n",
    "    #Populate lists with positive numbers, negative numbers and zeros\n",
    "\tfor num in nums:\n",
    "\t\tif num > 0:\n",
    "\t\t\tp.append(num)\n",
    "\t\telif num < 0: \n",
    "\t\t\tn.append(num)\n",
    "\t\telse:\n",
    "\t\t\tz.append(num)\n",
    "            \n",
    "    #Sort the negative numbers and the positives in ascending order        \n",
    "\tN, P = set(n), set(p)\n",
    "    \n",
    "    #Loop thrrough Zero list cases, create teh lists such that p=-n + 0\n",
    "\tif z:\n",
    "\t\tfor num in P:\n",
    "\t\t\tif -1*num in N:\n",
    "\t\t\t\tres.add((-1*num, 0, num))\n",
    "    \n",
    "    #Create the unique case of multiple 0\n",
    "\tif len(z) >= 3:\n",
    "\t\tres.add((0,0,0))\n",
    "        \n",
    "    #Loop though negative numbers and identify if their negative sum exists in the positive numbers. Add this\n",
    "    #to the result tuple. \n",
    "\tfor i in range(len(n)):\n",
    "\t\tfor j in range(i+1,len(n)):\n",
    "\t\t\ttarget = -1*(n[i] + n[j])\n",
    "\t\t\tif target in P:\n",
    "\t\t\t\tres.add(tuple(sorted([n[i],n[j],target])))\n",
    "                \n",
    "    #Repeat the process for positive list of numbers            \n",
    "\tfor i in range(len(p)):\n",
    "\t\tfor j in range(i+1,len(p)):\n",
    "\t\t\ttarget = -1*(p[i]+p[j])\n",
    "\t\t\tif target in N:\n",
    "\t\t\t\tres.add(tuple(sorted([p[i],p[j],target])))\n",
    "                \n",
    "\treturn res"
   ]
  },
  {
   "cell_type": "code",
   "execution_count": 2,
   "id": "4c36cc07",
   "metadata": {},
   "outputs": [],
   "source": [
    "test1 = [34,55,79,28,46,33,2,48,31,-3,84,71,52,-3,93,15,21,-43,57,-6,86,56,94,74,83,-14,28,-66,46,-49,62,-11,\n",
    "        43,65,77,12,47,61,26,1,13,29,55,-82,76,26,15,-29,36,-29,10,-70,69,17,49]"
   ]
  },
  {
   "cell_type": "code",
   "execution_count": 3,
   "id": "61d79701",
   "metadata": {},
   "outputs": [
    {
     "data": {
      "text/plain": [
       "{(-82, -11, 93),\n",
       " (-82, 13, 69),\n",
       " (-82, 17, 65),\n",
       " (-82, 21, 61),\n",
       " (-82, 26, 56),\n",
       " (-82, 33, 49),\n",
       " (-82, 34, 48),\n",
       " (-82, 36, 46),\n",
       " (-70, -14, 84),\n",
       " (-70, -6, 76),\n",
       " (-70, 1, 69),\n",
       " (-70, 13, 57),\n",
       " (-70, 15, 55),\n",
       " (-70, 21, 49),\n",
       " (-70, 34, 36),\n",
       " (-66, -11, 77),\n",
       " (-66, -3, 69),\n",
       " (-66, 1, 65),\n",
       " (-66, 10, 56),\n",
       " (-66, 17, 49),\n",
       " (-49, -6, 55),\n",
       " (-49, -3, 52),\n",
       " (-49, 1, 48),\n",
       " (-49, 2, 47),\n",
       " (-49, 13, 36),\n",
       " (-49, 15, 34),\n",
       " (-49, 21, 28),\n",
       " (-43, -14, 57),\n",
       " (-43, -6, 49),\n",
       " (-43, -3, 46),\n",
       " (-43, 10, 33),\n",
       " (-43, 12, 31),\n",
       " (-43, 15, 28),\n",
       " (-43, 17, 26),\n",
       " (-29, -14, 43),\n",
       " (-29, 1, 28),\n",
       " (-29, 12, 17),\n",
       " (-14, -3, 17),\n",
       " (-14, 1, 13),\n",
       " (-14, 2, 12),\n",
       " (-11, -6, 17),\n",
       " (-11, 1, 10),\n",
       " (-3, 1, 2)}"
      ]
     },
     "execution_count": 3,
     "metadata": {},
     "output_type": "execute_result"
    }
   ],
   "source": [
    "threeSum(test1)"
   ]
  }
 ],
 "metadata": {
  "kernelspec": {
   "display_name": "Python 3 (ipykernel)",
   "language": "python",
   "name": "python3"
  },
  "language_info": {
   "codemirror_mode": {
    "name": "ipython",
    "version": 3
   },
   "file_extension": ".py",
   "mimetype": "text/x-python",
   "name": "python",
   "nbconvert_exporter": "python",
   "pygments_lexer": "ipython3",
   "version": "3.8.2"
  }
 },
 "nbformat": 4,
 "nbformat_minor": 5
}
