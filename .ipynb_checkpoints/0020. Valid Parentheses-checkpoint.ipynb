{
 "cells": [
  {
   "cell_type": "markdown",
   "id": "56a48003",
   "metadata": {},
   "source": [
    "20. Valid Parentheses\n",
    "\n",
    "Given a string s containing just the characters '(', ')', '{', '}', '[' and ']', determine if the input string is valid.\n",
    "\n",
    "An input string is valid if:\n",
    "\n",
    "Open brackets must be closed by the same type of brackets.\n",
    "Open brackets must be closed in the correct order.\n",
    "Every close bracket has a corresponding open bracket of the same type."
   ]
  },
  {
   "cell_type": "code",
   "execution_count": 1,
   "id": "5676aad6",
   "metadata": {},
   "outputs": [],
   "source": [
    " def isValid(s: str) -> bool:\n",
    "        aux = []\n",
    "\n",
    "        for elem in s:\n",
    "            if elem == '(' or elem == '[' or elem == '{':\n",
    "                aux.append(elem)\n",
    "            else:\n",
    "                if len(aux)==0:\n",
    "                    return False\n",
    "                if aux[-1] == '(' and elem != ')':\n",
    "                    return False\n",
    "                elif aux[-1] == '[' and elem != ']':\n",
    "                    return False\n",
    "                elif aux[-1] == '{' and elem != '}':\n",
    "                    return False\n",
    "                \n",
    "                aux = aux[:-1]\n",
    "        return len(aux) == 0"
   ]
  }
 ],
 "metadata": {
  "kernelspec": {
   "display_name": "Python 3 (ipykernel)",
   "language": "python",
   "name": "python3"
  },
  "language_info": {
   "codemirror_mode": {
    "name": "ipython",
    "version": 3
   },
   "file_extension": ".py",
   "mimetype": "text/x-python",
   "name": "python",
   "nbconvert_exporter": "python",
   "pygments_lexer": "ipython3",
   "version": "3.8.2"
  }
 },
 "nbformat": 4,
 "nbformat_minor": 5
}
