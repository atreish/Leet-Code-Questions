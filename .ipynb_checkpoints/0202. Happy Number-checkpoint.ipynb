{
 "cells": [
  {
   "cell_type": "markdown",
   "id": "a6c4f7ca",
   "metadata": {},
   "source": [
    "202. Happy Number\n",
    "\n",
    "Write an algorithm to determine if a number n is happy.\n",
    "\n",
    "A happy number is a number defined by the following process:\n",
    "\n",
    "Starting with any positive integer, replace the number by the sum of the squares of its digits.\n",
    "Repeat the process until the number equals 1 (where it will stay), or it loops endlessly in a cycle which does not include 1.\n",
    "Those numbers for which this process ends in 1 are happy.\n",
    "Return true if n is a happy number, and false if not."
   ]
  },
  {
   "cell_type": "code",
   "execution_count": 1,
   "id": "769c7f7a",
   "metadata": {},
   "outputs": [],
   "source": [
    "def isHappy(n: int) -> bool:\n",
    "    list_off = [n]\n",
    "\n",
    "    def rec(n):\n",
    "        new_num = sum([int(i)**2 for i in str(n)])\n",
    "            \n",
    "\n",
    "        if new_num == 1:\n",
    "            return True\n",
    "        \n",
    "        else:\n",
    "            if new_num in list_off:\n",
    "                return False\n",
    "            else:\n",
    "                list_off.append(new_num)\n",
    "                return rec(new_num)\n",
    "\n",
    "    return rec(n)\n",
    "    "
   ]
  },
  {
   "cell_type": "code",
   "execution_count": 2,
   "id": "3cd582e0",
   "metadata": {},
   "outputs": [
    {
     "name": "stdout",
     "output_type": "stream",
     "text": [
      "Is the number 24 happy? Result: False\n",
      "Is the number 21 happy? Result: False\n",
      "Is the number 12 happy? Result: False\n",
      "Is the number 16 happy? Result: False\n",
      "Is the number 11 happy? Result: False\n",
      "Is the number 2 happy? Result: False\n",
      "Is the number 10 happy? Result: True\n",
      "Is the number 14 happy? Result: False\n",
      "Is the number 26 happy? Result: False\n",
      "Is the number 22 happy? Result: False\n"
     ]
    }
   ],
   "source": [
    "import random\n",
    "\n",
    "randomlist = []\n",
    "\n",
    "for i in range(0,10):\n",
    "    n = random.randint(1,30)\n",
    "    randomlist.append(n)\n",
    "\n",
    "for i in randomlist:\n",
    "    print(f'Is the number {i} happy? Result: {isHappy(i)}')"
   ]
  }
 ],
 "metadata": {
  "kernelspec": {
   "display_name": "Python 3 (ipykernel)",
   "language": "python",
   "name": "python3"
  },
  "language_info": {
   "codemirror_mode": {
    "name": "ipython",
    "version": 3
   },
   "file_extension": ".py",
   "mimetype": "text/x-python",
   "name": "python",
   "nbconvert_exporter": "python",
   "pygments_lexer": "ipython3",
   "version": "3.8.2"
  }
 },
 "nbformat": 4,
 "nbformat_minor": 5
}
