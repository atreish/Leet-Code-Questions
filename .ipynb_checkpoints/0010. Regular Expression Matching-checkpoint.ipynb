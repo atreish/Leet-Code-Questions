{
 "cells": [
  {
   "cell_type": "markdown",
   "id": "ef229cdf",
   "metadata": {},
   "source": [
    "10. Regular Expression Matching\n",
    "\n",
    "Given an input string s and a pattern p, implement regular expression matching with support for '.' and '*' where:\n",
    "\n",
    "'.' Matches any single character.​​​​\n",
    "'*' Matches zero or more of the preceding element.\n",
    "The matching should cover the entire input string (not partial)."
   ]
  },
  {
   "cell_type": "code",
   "execution_count": 1,
   "id": "b0750b64",
   "metadata": {},
   "outputs": [
    {
     "ename": "SyntaxError",
     "evalue": "invalid syntax (3493445488.py, line 90)",
     "output_type": "error",
     "traceback": [
      "\u001b[0;36m  Input \u001b[0;32mIn [1]\u001b[0;36m\u001b[0m\n\u001b[0;31m    else:\u001b[0m\n\u001b[0m    ^\u001b[0m\n\u001b[0;31mSyntaxError\u001b[0m\u001b[0;31m:\u001b[0m invalid syntax\n"
     ]
    }
   ],
   "source": [
    "    def isMatch(s: str, p: str) -> bool:\n",
    "        \n",
    "        \n",
    "        '''eliminating part of the patten in not important, \n",
    "        looks for asteriks, if it finds an asteriks it will determinte which letter goes with it by looking\n",
    "        at the previous character and updating the position of the i in p List'''\n",
    "        \n",
    "        new_p = \"\"\n",
    "        leng = len(p)\n",
    "        for i in range(leng):\n",
    "            if p[i] == \"*\" and i > 0:\n",
    "                prev = p[i-1]\n",
    "                if prev in s or prev==\".\":\n",
    "                    new_p += p[i]\n",
    "                else:\n",
    "                    new_p = new_p[:-1]\n",
    "            else:\n",
    "                new_p += p[i]\n",
    "        print(new_p)\n",
    "\n",
    "        \n",
    "        '''Get non repeating elements from new_p. If next character is asteriks or dot, contine, else\n",
    "        if the character is not in the string set form s return False. '''\n",
    "        \n",
    "        ss = set(s)\n",
    "        for i in range( len(new_p)):\n",
    "            if i < len(new_p)-1 and new_p[i+1]==\"*\":\n",
    "                continue\n",
    "            elif new_p[i]==\"*\" or new_p[i]==\".\":\n",
    "                continue\n",
    "            else:\n",
    "                if new_p[i] not in ss:\n",
    "                    print(\"Fast False\")\n",
    "                    return False\n",
    "                \n",
    "        '''If there is no dot in the new string pattern, check if all elements from s exisits in new_p and if\n",
    "        it is not in s, return False'''\n",
    "        \n",
    "        if \".\" not in new_p:\n",
    "            for i in s:\n",
    "                if i not in new_p:\n",
    "                    return False\n",
    "        \n",
    "        '''Detrmine of your pattern matches to an empty string from s. If the 2nd charcter is an asteriks\n",
    "        return the following characters, eliminiating forst 2 characters untl empty. Stop condition. '''\n",
    "\n",
    "        def pattern_empty(pattern):\n",
    "            leng = len(pattern)\n",
    "            if leng==0:\n",
    "                return True\n",
    "            if leng==1:\n",
    "                return False\n",
    "            if pattern[1]==\"*\":\n",
    "                return pattern_empty(pattern[2:])\n",
    "            else:\n",
    "                return False\n",
    "\n",
    "        '''If string and pattern empty return True. If string is not empty and pattern empty return False.\n",
    "        If string empty and pattern not empty return False. Stop Conditions.'''    \n",
    "\n",
    "        def mat(st, pa):\n",
    "            if st ==\"\" and pattern_empty(pa):\n",
    "                return True\n",
    "            elif st != \"\" and pa == \"\":\n",
    "                return False\n",
    "            elif st == \"\" and not pattern_empty(pa):\n",
    "                return False\n",
    "\n",
    "            \n",
    "            string_char = st[0]\n",
    "            pattern_char = pa[0]\n",
    "            \n",
    "            '''Create a flag for asteriks. True or False'''\n",
    "            if len(pa) > 1:\n",
    "                asterisk = pa[1] == \"*\"\n",
    "            else:\n",
    "                asterisk = False\n",
    "\n",
    "            '''If if first character if pattern is a dot or matching string element'''    \n",
    "            if pattern_char == \".\" or string_char == pattern_char:\n",
    "                \n",
    "                '''If it is an asteriks 3 cases: \n",
    "                1- move 1 char for string 2 characters through the pattern, \n",
    "                2- move 2 characters through the pattern but none through the string\n",
    "                3- move 1 character through string but none through pattern'''\n",
    "                if asterisk:\n",
    "                    res = mat(st[1:], pa[2:]) or mat(st, pa[2:]) or mat(st[1:], pa) \n",
    "                \n",
    "                '''Otherise Move through the list'''\n",
    "                else:\n",
    "                    res = mat(st[1:], pa[1:])\n",
    "                return res\n",
    "            \n",
    "            '''No match, char not a dot or same characters'''\n",
    "            else:\n",
    "                if asterisk:\n",
    "                    return mat(st, pa[2:])\n",
    "                else:\n",
    "                    return False\n",
    "\n",
    "        return mat(s, new_p)"
   ]
  },
  {
   "cell_type": "code",
   "execution_count": null,
   "id": "6f26a1b6",
   "metadata": {},
   "outputs": [],
   "source": [
    "s = 'aa' \n",
    "p = 'a'\n",
    "\n",
    "isMatch(s,p)"
   ]
  },
  {
   "cell_type": "code",
   "execution_count": null,
   "id": "2b52cf29",
   "metadata": {},
   "outputs": [],
   "source": [
    "s = 'aa' \n",
    "p = 'a*'\n",
    "\n",
    "isMatch(s,p)"
   ]
  },
  {
   "cell_type": "code",
   "execution_count": null,
   "id": "f435fcd0",
   "metadata": {},
   "outputs": [],
   "source": [
    "s = 'ab'\n",
    "p = '.*'\n",
    "\n",
    "isMatch(s,p)"
   ]
  }
 ],
 "metadata": {
  "kernelspec": {
   "display_name": "Python 3 (ipykernel)",
   "language": "python",
   "name": "python3"
  },
  "language_info": {
   "codemirror_mode": {
    "name": "ipython",
    "version": 3
   },
   "file_extension": ".py",
   "mimetype": "text/x-python",
   "name": "python",
   "nbconvert_exporter": "python",
   "pygments_lexer": "ipython3",
   "version": "3.8.2"
  }
 },
 "nbformat": 4,
 "nbformat_minor": 5
}
