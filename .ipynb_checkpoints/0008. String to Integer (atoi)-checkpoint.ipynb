{
 "cells": [
  {
   "cell_type": "markdown",
   "id": "631e3052",
   "metadata": {},
   "source": [
    "8. String to Integer (atoi)\n",
    "\n",
    "Implement the myAtoi(string s) function, which converts a string to a 32-bit signed integer (similar to C/C++'s atoi function).\n",
    "\n",
    "The algorithm for myAtoi(string s) is as follows:\n",
    "\n",
    "Read in and ignore any leading whitespace.\n",
    "Check if the next character (if not already at the end of the string) is '-' or '+'. Read this character in if it is either. This determines if the final result is negative or positive respectively. Assume the result is positive if neither is present.\n",
    "Read in next the characters until the next non-digit character or the end of the input is reached. The rest of the string is ignored.\n",
    "Convert these digits into an integer (i.e. \"123\" -> 123, \"0032\" -> 32). If no digits were read, then the integer is 0. Change the sign as necessary (from step 2).\n",
    "If the integer is out of the 32-bit signed integer range [-231, 231 - 1], then clamp the integer so that it remains in the range. Specifically, integers less than -231 should be clamped to -231, and integers greater than 231 - 1 should be clamped to 231 - 1.\n",
    "Return the integer as the final result.\n",
    "Note:\n",
    "\n",
    "Only the space character ' ' is considered a whitespace character.\n",
    "Do not ignore any characters other than the leading whitespace or the rest of the string after the digits."
   ]
  },
  {
   "cell_type": "code",
   "execution_count": 24,
   "id": "a7fdc8e3",
   "metadata": {},
   "outputs": [],
   "source": [
    "def myAtoi(s: str) -> int:\n",
    "        s = s.strip() \n",
    "        new_char = ''\n",
    "        before_num = True\n",
    "        for char in s:\n",
    "            if char == \"-\" or char == \"+\":\n",
    "                if before_num:\n",
    "                    new_char += char\n",
    "                    continue\n",
    "                else:\n",
    "                    break\n",
    "            try:\n",
    "                int(char)\n",
    "                new_char += char\n",
    "                before_num = False\n",
    "            except:\n",
    "                break\n",
    "\n",
    "        if new_char is None or len(new_char) < 1 or new_char==\"-\":\n",
    "            return 0       \n",
    "        try:\n",
    "            num  = int(new_char)\n",
    "        except:\n",
    "            return 0\n",
    "        if num <= -2**31:\n",
    "            return -2**31\n",
    "        if num >= 2**31 - 1:\n",
    "            return 2**31 - 1\n",
    "        return num"
   ]
  },
  {
   "cell_type": "code",
   "execution_count": 36,
   "id": "550d4f45",
   "metadata": {},
   "outputs": [],
   "source": [
    "h = ' 32909830 njj'\n"
   ]
  },
  {
   "cell_type": "code",
   "execution_count": 37,
   "id": "7ff9d017",
   "metadata": {},
   "outputs": [
    {
     "data": {
      "text/plain": [
       "32909830"
      ]
     },
     "execution_count": 37,
     "metadata": {},
     "output_type": "execute_result"
    }
   ],
   "source": [
    "myAtoi(h)"
   ]
  },
  {
   "cell_type": "code",
   "execution_count": null,
   "id": "e98e1f9e",
   "metadata": {},
   "outputs": [],
   "source": []
  },
  {
   "cell_type": "code",
   "execution_count": null,
   "id": "3225af6b",
   "metadata": {},
   "outputs": [],
   "source": []
  }
 ],
 "metadata": {
  "kernelspec": {
   "display_name": "Python 3 (ipykernel)",
   "language": "python",
   "name": "python3"
  },
  "language_info": {
   "codemirror_mode": {
    "name": "ipython",
    "version": 3
   },
   "file_extension": ".py",
   "mimetype": "text/x-python",
   "name": "python",
   "nbconvert_exporter": "python",
   "pygments_lexer": "ipython3",
   "version": "3.8.2"
  }
 },
 "nbformat": 4,
 "nbformat_minor": 5
}
