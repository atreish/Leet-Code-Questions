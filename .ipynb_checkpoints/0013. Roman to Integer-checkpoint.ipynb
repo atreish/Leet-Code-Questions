{
 "cells": [
  {
   "cell_type": "markdown",
   "id": "85dc4835",
   "metadata": {},
   "source": [
    "13. Roman to Integer\n",
    "\n",
    "Roman numerals are represented by seven different symbols: I, V, X, L, C, D and M.\n",
    "\n",
    "Symbol       Value\n",
    "I             1\n",
    "V             5\n",
    "X             10\n",
    "L             50\n",
    "C             100\n",
    "D             500\n",
    "M             1000\n",
    "\n",
    "For example, 2 is written as II in Roman numeral, just two ones added together. 12 is written as XII, which is simply X + II. The number 27 is written as XXVII, which is XX + V + II.\n",
    "\n",
    "Roman numerals are usually written largest to smallest from left to right. However, the numeral for four is not IIII. Instead, the number four is written as IV. Because the one is before the five we subtract it making four. The same principle applies to the number nine, which is written as IX. There are six instances where subtraction is used:\n",
    "\n",
    "I can be placed before V (5) and X (10) to make 4 and 9. \n",
    "X can be placed before L (50) and C (100) to make 40 and 90. \n",
    "C can be placed before D (500) and M (1000) to make 400 and 900.\n",
    "Given a roman numeral, convert it to an integer."
   ]
  },
  {
   "cell_type": "code",
   "execution_count": 18,
   "id": "c5acb247",
   "metadata": {},
   "outputs": [],
   "source": [
    "def romanToInt(s: str) -> int:\n",
    "    roman = {'I':1,'V':5,'X':10,'L':50,'C':100,'D':500,'M':1000,'IV':4,'IX':9,'XL':40,'XC':90,'CD':400,'CM':900}\n",
    "    i = 0\n",
    "    num = 0\n",
    "    \n",
    "    while i < len(s):\n",
    "            \n",
    "        if i+1 <len(s) and s[i:i+2] in roman:\n",
    "            num += roman[s[i:i+2]]\n",
    "            i+=2\n",
    "        else:\n",
    "            num+=roman[s[i]]\n",
    "            i+=1\n",
    "        \n",
    "    return num"
   ]
  },
  {
   "cell_type": "code",
   "execution_count": 30,
   "id": "a4a8d34a",
   "metadata": {},
   "outputs": [
    {
     "data": {
      "text/plain": [
       "[['MMMCLXX', 3170],\n",
       " ['MMMDCCXLIII', 3743],\n",
       " ['MDCCCLXXXI', 1881],\n",
       " ['MCMXLII', 1942],\n",
       " ['MCXCIX', 1199],\n",
       " ['MCCCLV', 1355],\n",
       " ['MDCLII', 1652],\n",
       " ['MMMCXXXIV', 3134],\n",
       " ['MMMCLXXXVI', 3186],\n",
       " ['MDCXXVII', 1627],\n",
       " ['MMMDCCXXXV', 3735],\n",
       " ['MMMDCXXIII', 3623],\n",
       " ['MMDCLXXXIV', 2684],\n",
       " ['MMMCDXLV', 3445],\n",
       " ['CCXXXIII', 233],\n",
       " ['MCDLXXX', 1480],\n",
       " ['MMCDLXIV', 2464],\n",
       " ['MMMCDLXXXIII', 3483],\n",
       " ['MMDCCCLI', 2851],\n",
       " ['CLXXVI', 176],\n",
       " ['MMMDCCCLXIX', 3869],\n",
       " ['MCCLXIV', 1264],\n",
       " ['LI', 51],\n",
       " ['CCI', 201],\n",
       " ['MMCLXVI', 2166]]"
      ]
     },
     "execution_count": 30,
     "metadata": {},
     "output_type": "execute_result"
    }
   ],
   "source": [
    "'''Test our function on random Roman Numerals'''\n",
    "\n",
    "import roman\n",
    "import random\n",
    "\n",
    "romans = []\n",
    "for i in range(4000):\n",
    "    romans.append(roman.toRoman(i))\n",
    "    \n",
    "rlist = random.sample(romans, 25)\n",
    "\n",
    "test = []\n",
    "for j in rlist:\n",
    "    test.append([j,romanToInt(j)])\n",
    "\n",
    "test"
   ]
  }
 ],
 "metadata": {
  "kernelspec": {
   "display_name": "Python 3 (ipykernel)",
   "language": "python",
   "name": "python3"
  },
  "language_info": {
   "codemirror_mode": {
    "name": "ipython",
    "version": 3
   },
   "file_extension": ".py",
   "mimetype": "text/x-python",
   "name": "python",
   "nbconvert_exporter": "python",
   "pygments_lexer": "ipython3",
   "version": "3.8.2"
  }
 },
 "nbformat": 4,
 "nbformat_minor": 5
}
