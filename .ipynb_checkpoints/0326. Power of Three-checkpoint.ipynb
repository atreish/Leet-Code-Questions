{
 "cells": [
  {
   "cell_type": "markdown",
   "id": "ba19155e",
   "metadata": {},
   "source": [
    "326. Power of Three\n",
    "\n",
    "Given an integer n, return true if it is a power of three. Otherwise, return false.\n",
    "\n",
    "An integer n is a power of three, if there exists an integer x such that n == 3x."
   ]
  },
  {
   "cell_type": "code",
   "execution_count": 1,
   "id": "eb646b20",
   "metadata": {},
   "outputs": [],
   "source": [
    "def isPowerOfThree(n: int) -> bool:\n",
    "    return (n > 0) and 1162261467 % n == 0"
   ]
  },
  {
   "cell_type": "code",
   "execution_count": 2,
   "id": "ac258598",
   "metadata": {},
   "outputs": [
    {
     "data": {
      "text/plain": [
       "True"
      ]
     },
     "execution_count": 2,
     "metadata": {},
     "output_type": "execute_result"
    }
   ],
   "source": [
    "n = 27\n",
    "isPowerOfThree(n)"
   ]
  },
  {
   "cell_type": "code",
   "execution_count": 3,
   "id": "555a4124",
   "metadata": {},
   "outputs": [
    {
     "data": {
      "text/plain": [
       "False"
      ]
     },
     "execution_count": 3,
     "metadata": {},
     "output_type": "execute_result"
    }
   ],
   "source": [
    "n = 100\n",
    "isPowerOfThree(n)"
   ]
  }
 ],
 "metadata": {
  "kernelspec": {
   "display_name": "Python 3 (ipykernel)",
   "language": "python",
   "name": "python3"
  },
  "language_info": {
   "codemirror_mode": {
    "name": "ipython",
    "version": 3
   },
   "file_extension": ".py",
   "mimetype": "text/x-python",
   "name": "python",
   "nbconvert_exporter": "python",
   "pygments_lexer": "ipython3",
   "version": "3.8.2"
  }
 },
 "nbformat": 4,
 "nbformat_minor": 5
}
