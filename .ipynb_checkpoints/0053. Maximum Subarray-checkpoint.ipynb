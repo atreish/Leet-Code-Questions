{
 "cells": [
  {
   "cell_type": "markdown",
   "id": "ea21dffe",
   "metadata": {},
   "source": [
    "Given an integer array nums, find the subarray with the largest sum, and return its sum."
   ]
  },
  {
   "cell_type": "code",
   "execution_count": 1,
   "id": "005ae640",
   "metadata": {},
   "outputs": [],
   "source": [
    "from typing import List\n",
    "\n",
    "class Solution():\n",
    "    def maxSubArray(self, nums: List[int]) -> int:\n",
    "        max_val = -10**4\n",
    "        current = -10**4\n",
    "        for i in range(len(nums)):\n",
    "            current = max(current+nums[i], nums[i])\n",
    "            max_val = max(current, max_val)\n",
    "        return max_val"
   ]
  },
  {
   "cell_type": "code",
   "execution_count": 2,
   "id": "3cbf3012",
   "metadata": {},
   "outputs": [
    {
     "data": {
      "text/plain": [
       "6"
      ]
     },
     "execution_count": 2,
     "metadata": {},
     "output_type": "execute_result"
    }
   ],
   "source": [
    "nums = [-2,1,-3,4,-1,2,1,-5,4]\n",
    "solver = Solution\n",
    "solver.maxSubArray(solver, nums)"
   ]
  }
 ],
 "metadata": {
  "kernelspec": {
   "display_name": "Python 3 (ipykernel)",
   "language": "python",
   "name": "python3"
  },
  "language_info": {
   "codemirror_mode": {
    "name": "ipython",
    "version": 3
   },
   "file_extension": ".py",
   "mimetype": "text/x-python",
   "name": "python",
   "nbconvert_exporter": "python",
   "pygments_lexer": "ipython3",
   "version": "3.8.2"
  }
 },
 "nbformat": 4,
 "nbformat_minor": 5
}
