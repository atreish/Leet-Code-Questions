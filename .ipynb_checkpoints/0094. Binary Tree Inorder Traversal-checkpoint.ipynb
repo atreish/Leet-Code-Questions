{
 "cells": [
  {
   "cell_type": "markdown",
   "id": "be8f2c18",
   "metadata": {},
   "source": [
    " 94. Binary Tree Inorder Traversal\n",
    "\n",
    "\n",
    "Given the root of a binary tree, return the inorder traversal of its nodes' values."
   ]
  },
  {
   "cell_type": "code",
   "execution_count": 7,
   "id": "df7153fb",
   "metadata": {},
   "outputs": [],
   "source": [
    "from typing import List\n",
    "\n",
    "def inorderTraversal(List[tree]) -> List[int]:\n",
    "    tree_vals = []\n",
    "    \n",
    "    def inorder(tree):\n",
    "        if tree:\n",
    "\n",
    "            inorder(tree.left)\n",
    "            tree_vals.append(tree.val)\n",
    "            inorder(tree.right)\n",
    "\n",
    "    inorder(root)\n",
    "        \n",
    "    return tree_vals"
   ]
  }
 ],
 "metadata": {
  "kernelspec": {
   "display_name": "Python 3 (ipykernel)",
   "language": "python",
   "name": "python3"
  },
  "language_info": {
   "codemirror_mode": {
    "name": "ipython",
    "version": 3
   },
   "file_extension": ".py",
   "mimetype": "text/x-python",
   "name": "python",
   "nbconvert_exporter": "python",
   "pygments_lexer": "ipython3",
   "version": "3.8.2"
  }
 },
 "nbformat": 4,
 "nbformat_minor": 5
}
