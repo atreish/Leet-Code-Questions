{
 "cells": [
  {
   "cell_type": "markdown",
   "id": "94142f40",
   "metadata": {},
   "source": [
    "69. Sqrt(x)\n",
    "\n",
    "Given a non-negative integer x, return the square root of x rounded down to the nearest integer. The returned integer should be non-negative as well.\n",
    "\n",
    "You must not use any built-in exponent function or operator.\n",
    "\n",
    "For example, do not use pow(x, 0.5) in c++ or x ** 0.5 in python."
   ]
  },
  {
   "cell_type": "code",
   "execution_count": 1,
   "id": "900cab92",
   "metadata": {},
   "outputs": [],
   "source": [
    "def mySqrt(x: int) -> int:\n",
    "    \n",
    "        low = 0\n",
    "        high = x\n",
    "        \n",
    "        while low <= high:\n",
    "            mid = low + (high - low) // 2\n",
    "            \n",
    "            if mid * mid == x:\n",
    "                return mid\n",
    "            \n",
    "            elif mid * mid < x:\n",
    "                ans = mid\n",
    "                low = mid + 1 #iterate up the number line\n",
    "                \n",
    "            else:\n",
    "                high = mid - 1 #iterate the numberline down\n",
    "        return ans"
   ]
  },
  {
   "cell_type": "code",
   "execution_count": 2,
   "id": "35d62a61",
   "metadata": {},
   "outputs": [
    {
     "name": "stdout",
     "output_type": "stream",
     "text": [
      "Number = 813   and   Solution = 28  True Square = 784\n",
      "Number = 409   and   Solution = 20  True Square = 400\n",
      "Number = 786   and   Solution = 28  True Square = 784\n",
      "Number = 640   and   Solution = 25  True Square = 625\n",
      "Number = 762   and   Solution = 27  True Square = 729\n",
      "Number = 5   and   Solution = 2  True Square = 4\n",
      "Number = 986   and   Solution = 31  True Square = 961\n",
      "Number = 610   and   Solution = 24  True Square = 576\n",
      "Number = 442   and   Solution = 21  True Square = 441\n",
      "Number = 116   and   Solution = 10  True Square = 100\n"
     ]
    }
   ],
   "source": [
    "import random \n",
    "\n",
    "testcases = random.sample(range(0, 1000), 10)\n",
    "for i in testcases:\n",
    "    print(f\"Number = {i}   and   Solution = {mySqrt(i)}  True Square = {mySqrt(i)*mySqrt(i)}\")"
   ]
  }
 ],
 "metadata": {
  "kernelspec": {
   "display_name": "Python 3 (ipykernel)",
   "language": "python",
   "name": "python3"
  },
  "language_info": {
   "codemirror_mode": {
    "name": "ipython",
    "version": 3
   },
   "file_extension": ".py",
   "mimetype": "text/x-python",
   "name": "python",
   "nbconvert_exporter": "python",
   "pygments_lexer": "ipython3",
   "version": "3.8.2"
  }
 },
 "nbformat": 4,
 "nbformat_minor": 5
}
