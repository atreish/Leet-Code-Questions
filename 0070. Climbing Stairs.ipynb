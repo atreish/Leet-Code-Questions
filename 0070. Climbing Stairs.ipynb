{
 "cells": [
  {
   "cell_type": "raw",
   "id": "0fe37e4d",
   "metadata": {},
   "source": [
    "70. Climbing Stairs\n",
    "\n",
    "You are climbing a staircase. It takes n steps to reach the top.\n",
    "\n",
    "Each time you can either climb 1 or 2 steps. In how many distinct ways can you climb to the top?"
   ]
  },
  {
   "cell_type": "code",
   "execution_count": 1,
   "id": "eba62e68",
   "metadata": {},
   "outputs": [],
   "source": [
    "def climbStairs(n: int) -> int:\n",
    "     \n",
    "        #Edge cases which are unique b\n",
    "        if n <= 3: return n\n",
    "        \n",
    "        #Fibbonaci Sequence\n",
    "        a = (1, 2)\n",
    "        for i in range(3, n+1):\n",
    "            a = (a[1], a[0]+a[1])\n",
    "        \n",
    "        return a[-1]"
   ]
  },
  {
   "cell_type": "code",
   "execution_count": 2,
   "id": "1f693cd6",
   "metadata": {},
   "outputs": [
    {
     "name": "stdout",
     "output_type": "stream",
     "text": [
      "Number: 48 Climb Stairs Result: 7778742049\n",
      "Number: 4 Climb Stairs Result: 5\n",
      "Number: 2 Climb Stairs Result: 2\n",
      "Number: 3 Climb Stairs Result: 3\n",
      "Number: 10 Climb Stairs Result: 89\n",
      "Number: 37 Climb Stairs Result: 39088169\n",
      "Number: 19 Climb Stairs Result: 6765\n",
      "Number: 16 Climb Stairs Result: 1597\n",
      "Number: 49 Climb Stairs Result: 12586269025\n",
      "Number: 9 Climb Stairs Result: 55\n"
     ]
    }
   ],
   "source": [
    "import random\n",
    "\n",
    "testcase = random.sample(range(1, 50), 10)\n",
    "\n",
    "for i in testcase:\n",
    "    print(f\"Number: {i} Climb Stairs Result: {climbStairs(i)}\")"
   ]
  }
 ],
 "metadata": {
  "kernelspec": {
   "display_name": "Python 3 (ipykernel)",
   "language": "python",
   "name": "python3"
  },
  "language_info": {
   "codemirror_mode": {
    "name": "ipython",
    "version": 3
   },
   "file_extension": ".py",
   "mimetype": "text/x-python",
   "name": "python",
   "nbconvert_exporter": "python",
   "pygments_lexer": "ipython3",
   "version": "3.8.2"
  }
 },
 "nbformat": 4,
 "nbformat_minor": 5
}
