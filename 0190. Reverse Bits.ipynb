{
 "cells": [
  {
   "cell_type": "raw",
   "id": "4467b238",
   "metadata": {},
   "source": [
    "190. Reverse Bits\n",
    "\n",
    "Reverse bits of a given 32 bits unsigned integer.\n",
    "\n",
    "Note:\n",
    "\n",
    "Note that in some languages, such as Java, there is no unsigned integer type. In this case, both input and output will be given as a signed integer type. They should not affect your implementation, as the integer's internal binary representation is the same, whether it is signed or unsigned."
   ]
  },
  {
   "cell_type": "code",
   "execution_count": 4,
   "id": "687a91be",
   "metadata": {},
   "outputs": [],
   "source": [
    "def reverseBits(n):\n",
    "    n = bin(n)[2:]\n",
    "    n = '0'*( 32-len(n) ) + n\n",
    "    return int( n[::-1] ,2)"
   ]
  },
  {
   "cell_type": "code",
   "execution_count": 6,
   "id": "570bb1a1",
   "metadata": {},
   "outputs": [
    {
     "data": {
      "text/plain": [
       "4526077126573222191314337"
      ]
     },
     "execution_count": 6,
     "metadata": {},
     "output_type": "execute_result"
    }
   ],
   "source": [
    "num = 10100101000001111010011100\n",
    "reverseBits(num)"
   ]
  }
 ],
 "metadata": {
  "kernelspec": {
   "display_name": "Python 3 (ipykernel)",
   "language": "python",
   "name": "python3"
  },
  "language_info": {
   "codemirror_mode": {
    "name": "ipython",
    "version": 3
   },
   "file_extension": ".py",
   "mimetype": "text/x-python",
   "name": "python",
   "nbconvert_exporter": "python",
   "pygments_lexer": "ipython3",
   "version": "3.8.2"
  }
 },
 "nbformat": 4,
 "nbformat_minor": 5
}
