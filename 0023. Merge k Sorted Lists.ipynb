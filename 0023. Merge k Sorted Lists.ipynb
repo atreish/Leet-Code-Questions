{
 "cells": [
  {
   "cell_type": "raw",
   "id": "3b70b2fb",
   "metadata": {},
   "source": [
    "23. Merge k Sorted Lists\n",
    "\n",
    "You are given an array of k linked-lists lists, each linked-list is sorted in ascending order.\n",
    "\n",
    "Merge all the linked-lists into one sorted linked-list and return it."
   ]
  },
  {
   "cell_type": "code",
   "execution_count": 5,
   "id": "6a2d1d68",
   "metadata": {},
   "outputs": [],
   "source": [
    "from typing import List\n",
    "import itertools"
   ]
  },
  {
   "cell_type": "code",
   "execution_count": 25,
   "id": "9449f084",
   "metadata": {},
   "outputs": [],
   "source": [
    "class ListNode:\n",
    "    def __init__(self, val=0, next=None):\n",
    "         self.val = val\n",
    "         self.next = next"
   ]
  },
  {
   "cell_type": "code",
   "execution_count": 26,
   "id": "11a1c1f4",
   "metadata": {},
   "outputs": [],
   "source": [
    "class Solution:\n",
    "    def mergeKLists(self, lists: List[ListNode]) -> [ListNode]:\n",
    "        nodes = []\n",
    "        head = point = ListNode(0)\n",
    "        \n",
    "        for l in lists:\n",
    "            while l:\n",
    "                nodes.append(l.val)\n",
    "                l = l.next\n",
    "\n",
    "        for x in sorted(nodes):\n",
    "            point.next = ListNode(x)\n",
    "            point = point.next\n",
    "\n",
    "        return head.next"
   ]
  },
  {
   "cell_type": "code",
   "execution_count": 37,
   "id": "b29f9104",
   "metadata": {},
   "outputs": [
    {
     "data": {
      "text/plain": [
       "[1, 1, 2, 3, 4, 4, 5, 6]"
      ]
     },
     "execution_count": 37,
     "metadata": {},
     "output_type": "execute_result"
    }
   ],
   "source": [
    "'''Jupyter Notebook version of the previous classes used for LeetCode'''\n",
    "\n",
    "\n",
    "lists = [[1,4,5],[1,3,4],[2,6]]\n",
    "\n",
    "def mergek(lists: []) -> []:\n",
    "    l = list(itertools.chain.from_iterable(lists))\n",
    "    return sorted(l)\n",
    "\n",
    "mergek(lists)"
   ]
  }
 ],
 "metadata": {
  "kernelspec": {
   "display_name": "Python 3 (ipykernel)",
   "language": "python",
   "name": "python3"
  },
  "language_info": {
   "codemirror_mode": {
    "name": "ipython",
    "version": 3
   },
   "file_extension": ".py",
   "mimetype": "text/x-python",
   "name": "python",
   "nbconvert_exporter": "python",
   "pygments_lexer": "ipython3",
   "version": "3.8.2"
  }
 },
 "nbformat": 4,
 "nbformat_minor": 5
}
