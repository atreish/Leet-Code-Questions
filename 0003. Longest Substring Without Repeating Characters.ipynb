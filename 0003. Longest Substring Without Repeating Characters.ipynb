{
 "cells": [
  {
   "cell_type": "raw",
   "id": "150ed4d1",
   "metadata": {},
   "source": [
    "3. Longest Substring Without Repeating Characters\n",
    "\n",
    "Given a string s, find the length of the longest substring without repeating characters."
   ]
  },
  {
   "cell_type": "code",
   "execution_count": 1,
   "id": "36cb907e",
   "metadata": {},
   "outputs": [],
   "source": [
    "def longestSubstring(s):\n",
    "        leng = len(s)\n",
    "        substring = []\n",
    "        record = 0\n",
    "\n",
    "        for i in range(leng):\n",
    "\n",
    "            for y in range(leng-i):\n",
    "                j = i + y\n",
    "                elem = s[j]\n",
    "                if elem in substring:\n",
    "                    break\n",
    "                substring.append(elem)\n",
    "\n",
    "            nn = len(substring)\n",
    "            if nn > record:\n",
    "                record = nn\n",
    "            substring = []\n",
    "\n",
    "        return record"
   ]
  },
  {
   "cell_type": "code",
   "execution_count": 2,
   "id": "96becc54",
   "metadata": {},
   "outputs": [
    {
     "name": "stdout",
     "output_type": "stream",
     "text": [
      "8\n",
      "26\n"
     ]
    }
   ],
   "source": [
    "'''Example Execution in Python'''\n",
    "\n",
    "j = 'abcdeabdjfasdnjwenfnlskdnsndkdkno'\n",
    "k = 'qwertyuiopasdfghjklzxcvbnm'\n",
    "print(longestSubstring(j))\n",
    "print(longestSubstring(k))"
   ]
  }
 ],
 "metadata": {
  "kernelspec": {
   "display_name": "Python 3 (ipykernel)",
   "language": "python",
   "name": "python3"
  },
  "language_info": {
   "codemirror_mode": {
    "name": "ipython",
    "version": 3
   },
   "file_extension": ".py",
   "mimetype": "text/x-python",
   "name": "python",
   "nbconvert_exporter": "python",
   "pygments_lexer": "ipython3",
   "version": "3.8.2"
  }
 },
 "nbformat": 4,
 "nbformat_minor": 5
}
