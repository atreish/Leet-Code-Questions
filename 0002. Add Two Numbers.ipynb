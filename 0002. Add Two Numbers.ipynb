{
 "cells": [
  {
   "cell_type": "raw",
   "id": "8a637f6a",
   "metadata": {},
   "source": [
    "2. Add Two Numbers\n",
    "\n",
    "You are given two non-empty linked lists representing two non-negative integers. The digits are stored in reverse order, and each of their nodes contains a single digit. Add the two numbers and return the sum as a linked list. You may assume the two numbers do not contain any leading zero, except the number 0 itself."
   ]
  },
  {
   "cell_type": "code",
   "execution_count": 1,
   "id": "5a33439d",
   "metadata": {},
   "outputs": [],
   "source": [
    "'''Leet Code Response'''\n",
    "\n",
    "from typing import Optional\n",
    "\n",
    "class ListNode:\n",
    "    def __init__(self, val=0, next=None):\n",
    "        self.val = val\n",
    "        self.next = next\n",
    "\n",
    "class Solution:\n",
    "\n",
    "    def addTwoNumbers(self, l1: Optional[ListNode], l2: Optional[ListNode]) -> Optional[ListNode]:\n",
    "        def convertList2Num(li, count=0,  total = 0):\n",
    "            value = li.val\n",
    "            next_node = li.next\n",
    "\n",
    "            total2 = total + value * 10**count\n",
    "\n",
    "            if(next_node==None):\n",
    "                return total2\n",
    "            else:\n",
    "                return convertList2Num(next_node, count = count+1, total = total2)\n",
    "\n",
    "        def convertNum2List(ni):\n",
    "            le = len(str(ni))\n",
    "            prev = None\n",
    "            for i in range(le):\n",
    "                node = ListNode(val=int(str(ni)[i]), next=prev)\n",
    "                prev= node\n",
    "            return node\n",
    "\n",
    "        num1 = convertList2Num(l1)\n",
    "        num2 = convertList2Num(l2)\n",
    "\n",
    "        return convertNum2List(num1 + num2) \n",
    "    \n"
   ]
  },
  {
   "cell_type": "code",
   "execution_count": 2,
   "id": "3812d2ca",
   "metadata": {},
   "outputs": [
    {
     "data": {
      "text/plain": [
       "807"
      ]
     },
     "execution_count": 2,
     "metadata": {},
     "output_type": "execute_result"
    }
   ],
   "source": [
    "'''Execution is different in Python Jupyter Notebook'''\n",
    "\n",
    "def convertNum2List(ni):\n",
    "            le = len(str(ni))\n",
    "            prev = None\n",
    "            for i in range(le):\n",
    "                node = ListNode(val=int(str(ni)[i]), next=prev)\n",
    "                prev = node\n",
    "            return node\n",
    "\n",
    "def convertList2Num(li, count=0,  total = 0):\n",
    "        value = li.val\n",
    "        next_node = li.next\n",
    "        total2 = total + value * 10**count\n",
    "        if(next_node==None):\n",
    "            return total2\n",
    "        else:\n",
    "            return convertList2Num(next_node, count = count+1, total = total2)        \n",
    "\n",
    "l1 = convertNum2List(342)\n",
    "l2 = convertNum2List(465)\n",
    "\n",
    "solver = Solution\n",
    "convertList2Num(solver.addTwoNumbers(solver,l1,l2))"
   ]
  }
 ],
 "metadata": {
  "kernelspec": {
   "display_name": "Python 3 (ipykernel)",
   "language": "python",
   "name": "python3"
  },
  "language_info": {
   "codemirror_mode": {
    "name": "ipython",
    "version": 3
   },
   "file_extension": ".py",
   "mimetype": "text/x-python",
   "name": "python",
   "nbconvert_exporter": "python",
   "pygments_lexer": "ipython3",
   "version": "3.8.2"
  }
 },
 "nbformat": 4,
 "nbformat_minor": 5
}
