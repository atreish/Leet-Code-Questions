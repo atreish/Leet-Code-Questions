{
 "cells": [
  {
   "cell_type": "markdown",
   "id": "32252582",
   "metadata": {},
   "source": [
    "There is a robot on an m x n grid. The robot is initially located at the top-left corner (i.e., grid[0][0]). The robot tries to move to the bottom-right corner (i.e., grid[m - 1][n - 1]). The robot can only move either down or right at any point in time.\n",
    "\n",
    "Given the two integers m and n, return the number of possible unique paths that the robot can take to reach the bottom-right corner.\n",
    "\n",
    "The test cases are generated so that the answer will be less than or equal to 2 * 109."
   ]
  },
  {
   "cell_type": "code",
   "execution_count": 1,
   "id": "29c0fcfa",
   "metadata": {},
   "outputs": [],
   "source": [
    "import math\n",
    "\n",
    "class Solution:\n",
    "    def uniquePaths(self, m: int, n: int) -> int:\n",
    "       \n",
    "        if not m or not n:\n",
    "            return 0\n",
    "        return int(math.factorial(m+n-2)/(math.factorial(n-1) * math.factorial(m-1)))"
   ]
  },
  {
   "cell_type": "code",
   "execution_count": 2,
   "id": "ad342390",
   "metadata": {},
   "outputs": [
    {
     "data": {
      "text/plain": [
       "28"
      ]
     },
     "execution_count": 2,
     "metadata": {},
     "output_type": "execute_result"
    }
   ],
   "source": [
    "solver = Solution\n",
    "m = 3\n",
    "n = 7\n",
    "solver.uniquePaths(solver,m,n)"
   ]
  }
 ],
 "metadata": {
  "kernelspec": {
   "display_name": "Python 3 (ipykernel)",
   "language": "python",
   "name": "python3"
  },
  "language_info": {
   "codemirror_mode": {
    "name": "ipython",
    "version": 3
   },
   "file_extension": ".py",
   "mimetype": "text/x-python",
   "name": "python",
   "nbconvert_exporter": "python",
   "pygments_lexer": "ipython3",
   "version": "3.8.2"
  }
 },
 "nbformat": 4,
 "nbformat_minor": 5
}
