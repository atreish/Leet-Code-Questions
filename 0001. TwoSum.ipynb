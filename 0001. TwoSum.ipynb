{
 "cells": [
  {
   "cell_type": "markdown",
   "id": "54a327ef",
   "metadata": {},
   "source": [
    "1. Two Sum\n",
    "\n",
    "Given an array of integers nums and an integer target, return indices of the two numbers such that they add up to target. You may assume that each input would have exactly one solution, and you may not use the same element twice. You can return the answer in any order."
   ]
  },
  {
   "cell_type": "code",
   "execution_count": 1,
   "id": "05e2cf5f",
   "metadata": {},
   "outputs": [],
   "source": [
    "'''Here a class is created with one function that executes the desired function. First we ensure that the \n",
    "input is in the form of a list of int values. This is acheived by importing List form the typing module. Then\n",
    "we run a double loop.'''\n",
    "\n",
    "from typing import List\n",
    "\n",
    "class Solution:\n",
    "    \n",
    "    def twoSum(self, nums: List[int], target: int) -> List[int]:\n",
    "        length = len(nums)\n",
    "        for i in range(length):\n",
    "            for z in range(length - (i+1)):\n",
    "                j = i + z + 1 \n",
    "                if (target == (nums[i]+nums[j])):\n",
    "                    return ([i,j])"
   ]
  },
  {
   "cell_type": "code",
   "execution_count": 2,
   "id": "d0dd8e74",
   "metadata": {},
   "outputs": [],
   "source": [
    "solver = Solution\n",
    "n = [1,2,3,4,5,6,7,8,9,10]"
   ]
  },
  {
   "cell_type": "code",
   "execution_count": 3,
   "id": "5804fd6a",
   "metadata": {},
   "outputs": [
    {
     "name": "stdout",
     "output_type": "stream",
     "text": [
      "Sum Equal to 0 = to None\n",
      "Sum Equal to 1 = to None\n",
      "Sum Equal to 2 = to None\n",
      "Sum Equal to 3 = to [0, 1]\n",
      "Sum Equal to 4 = to [0, 2]\n",
      "Sum Equal to 5 = to [0, 3]\n",
      "Sum Equal to 6 = to [0, 4]\n",
      "Sum Equal to 7 = to [0, 5]\n",
      "Sum Equal to 8 = to [0, 6]\n",
      "Sum Equal to 9 = to [0, 7]\n"
     ]
    }
   ],
   "source": [
    "for i in range(10):\n",
    "    print('Sum Equal to {} = to {}'.format(i, solver.twoSum(solver, nums=n, target=i)))"
   ]
  }
 ],
 "metadata": {
  "kernelspec": {
   "display_name": "Python 3 (ipykernel)",
   "language": "python",
   "name": "python3"
  },
  "language_info": {
   "codemirror_mode": {
    "name": "ipython",
    "version": 3
   },
   "file_extension": ".py",
   "mimetype": "text/x-python",
   "name": "python",
   "nbconvert_exporter": "python",
   "pygments_lexer": "ipython3",
   "version": "3.8.2"
  }
 },
 "nbformat": 4,
 "nbformat_minor": 5
}
