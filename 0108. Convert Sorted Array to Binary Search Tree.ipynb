{
 "cells": [
  {
   "cell_type": "raw",
   "id": "e68c83ab",
   "metadata": {},
   "source": [
    "108. Convert Sorted Array to Binary Search Tree\n",
    "\n",
    "Given an integer array nums where the elements are sorted in ascending order, convert it to a height-balanced binary search tree."
   ]
  },
  {
   "cell_type": "code",
   "execution_count": 1,
   "id": "edcd0efc",
   "metadata": {},
   "outputs": [],
   "source": [
    "class TreeNode:\n",
    "     def __init__(self, val=0, left=None, right=None):\n",
    "        self.val = val\n",
    "        self.left = left\n",
    "        self.right = right\n",
    "        \n",
    "class Solution:\n",
    "    def sortedArrayToBST(self, num):\n",
    "        if not num:\n",
    "            return None\n",
    "\n",
    "        mid = len(num) // 2\n",
    "\n",
    "        root = TreeNode(num[mid])\n",
    "        root.left = self.sortedArrayToBST(num[:mid])\n",
    "        root.right = self.sortedArrayToBST(num[mid+1:])\n",
    "\n",
    "        return root"
   ]
  }
 ],
 "metadata": {
  "kernelspec": {
   "display_name": "Python 3 (ipykernel)",
   "language": "python",
   "name": "python3"
  },
  "language_info": {
   "codemirror_mode": {
    "name": "ipython",
    "version": 3
   },
   "file_extension": ".py",
   "mimetype": "text/x-python",
   "name": "python",
   "nbconvert_exporter": "python",
   "pygments_lexer": "ipython3",
   "version": "3.8.2"
  }
 },
 "nbformat": 4,
 "nbformat_minor": 5
}
