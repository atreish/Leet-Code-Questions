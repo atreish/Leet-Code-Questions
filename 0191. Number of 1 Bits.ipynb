{
 "cells": [
  {
   "cell_type": "raw",
   "id": "b0a282e7",
   "metadata": {},
   "source": [
    "191. Number of 1 Bits\n",
    "\n",
    "Write a function that takes an unsigned integer and returns the number of '1' bits it has (also known as the Hamming weight).\n",
    "\n",
    "Note:\n",
    "\n",
    "Note that in some languages, such as Java, there is no unsigned integer type. In this case, the input will be given as a signed integer type. It should not affect your implementation, as the integer's internal binary representation is the same, whether it is signed or unsigned.\n",
    "In Java, the compiler represents the signed integers using 2's complement notation. Therefore, in Example 3, the input represents the signed integer. -3."
   ]
  },
  {
   "cell_type": "code",
   "execution_count": 1,
   "id": "2b090096",
   "metadata": {},
   "outputs": [],
   "source": [
    "def hammingWeight(n: int) -> int:\n",
    "    count = 0\n",
    "    while n!=0:\n",
    "            \n",
    "        count += 1 if n & 1 else 0\n",
    "            \n",
    "        n = n>>1\n",
    "    return count "
   ]
  },
  {
   "cell_type": "code",
   "execution_count": 2,
   "id": "9fc4e91c",
   "metadata": {},
   "outputs": [
    {
     "data": {
      "text/plain": [
       "15"
      ]
     },
     "execution_count": 2,
     "metadata": {},
     "output_type": "execute_result"
    }
   ],
   "source": [
    "n = 1010101001\n",
    "hammingWeight(n)"
   ]
  }
 ],
 "metadata": {
  "kernelspec": {
   "display_name": "Python 3 (ipykernel)",
   "language": "python",
   "name": "python3"
  },
  "language_info": {
   "codemirror_mode": {
    "name": "ipython",
    "version": 3
   },
   "file_extension": ".py",
   "mimetype": "text/x-python",
   "name": "python",
   "nbconvert_exporter": "python",
   "pygments_lexer": "ipython3",
   "version": "3.8.2"
  }
 },
 "nbformat": 4,
 "nbformat_minor": 5
}
