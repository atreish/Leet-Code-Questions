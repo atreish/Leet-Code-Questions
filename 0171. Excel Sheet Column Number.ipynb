{
 "cells": [
  {
   "cell_type": "raw",
   "id": "74be7f52",
   "metadata": {},
   "source": [
    "171. Excel Sheet Column Number\n",
    "\n",
    "Given a string columnTitle that represents the column title as appears in an Excel sheet, return its corresponding column number."
   ]
  },
  {
   "cell_type": "code",
   "execution_count": 1,
   "id": "a495e2ab",
   "metadata": {},
   "outputs": [],
   "source": [
    "def titleToNumber(s: str) -> int:\n",
    "    \n",
    "    result = 0\n",
    "    val = [i for i in range(1, 27)]\n",
    "    letters = list(\"ABCDEFGHIJKLMNOPQRSTUVWXYZ\")\n",
    "    dictionary = dict(zip(letters, val))\n",
    "    \n",
    "    for i in s:\n",
    "        result = result * 26 + dictionary[i]\n",
    "    return result"
   ]
  },
  {
   "cell_type": "code",
   "execution_count": 2,
   "id": "0edc6c4d",
   "metadata": {},
   "outputs": [
    {
     "data": {
      "text/plain": [
       "16893"
      ]
     },
     "execution_count": 2,
     "metadata": {},
     "output_type": "execute_result"
    }
   ],
   "source": [
    "s1 = 'XYS'\n",
    "titleToNumber(s1)"
   ]
  },
  {
   "cell_type": "code",
   "execution_count": 3,
   "id": "0fcc6106",
   "metadata": {},
   "outputs": [
    {
     "data": {
      "text/plain": [
       "27"
      ]
     },
     "execution_count": 3,
     "metadata": {},
     "output_type": "execute_result"
    }
   ],
   "source": [
    "s2 = 'AA'\n",
    "titleToNumber(s2)"
   ]
  },
  {
   "cell_type": "code",
   "execution_count": 4,
   "id": "fc87951f",
   "metadata": {},
   "outputs": [
    {
     "data": {
      "text/plain": [
       "701"
      ]
     },
     "execution_count": 4,
     "metadata": {},
     "output_type": "execute_result"
    }
   ],
   "source": [
    "s3 = 'ZY'\n",
    "titleToNumber(s3)"
   ]
  },
  {
   "cell_type": "code",
   "execution_count": 5,
   "id": "443278b8",
   "metadata": {},
   "outputs": [
    {
     "data": {
      "text/plain": [
       "2147483647"
      ]
     },
     "execution_count": 5,
     "metadata": {},
     "output_type": "execute_result"
    }
   ],
   "source": [
    "s4 = 'FXSHRXW'\n",
    "titleToNumber(s4)"
   ]
  }
 ],
 "metadata": {
  "kernelspec": {
   "display_name": "Python 3 (ipykernel)",
   "language": "python",
   "name": "python3"
  },
  "language_info": {
   "codemirror_mode": {
    "name": "ipython",
    "version": 3
   },
   "file_extension": ".py",
   "mimetype": "text/x-python",
   "name": "python",
   "nbconvert_exporter": "python",
   "pygments_lexer": "ipython3",
   "version": "3.8.2"
  }
 },
 "nbformat": 4,
 "nbformat_minor": 5
}
