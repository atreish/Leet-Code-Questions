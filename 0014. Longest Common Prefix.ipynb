{
 "cells": [
  {
   "cell_type": "raw",
   "id": "7c988899",
   "metadata": {},
   "source": [
    "14. Longest Common Prefix\n",
    "\n",
    "Write a function to find the longest common prefix string amongst an array of strings.\n",
    "\n",
    "If there is no common prefix, return an empty string \"\"."
   ]
  },
  {
   "cell_type": "code",
   "execution_count": 1,
   "id": "6a0ffe82",
   "metadata": {},
   "outputs": [],
   "source": [
    "    def longestCommonPrefix(strs) -> str:\n",
    "        minword = min(strs, key=len)\n",
    "        leng = len(minword)\n",
    "        i = 0 \n",
    "        while i < len(strs):\n",
    "            if strs[i][0:leng] == minword:\n",
    "                i+=1\n",
    "            else:\n",
    "                minword = minword[0:leng-1]\n",
    "                leng = len(minword)\n",
    "                i = 0 \n",
    "\n",
    "            if(minword ==\"\"):\n",
    "                break \n",
    "        return minword"
   ]
  },
  {
   "cell_type": "code",
   "execution_count": 2,
   "id": "3d65618a",
   "metadata": {},
   "outputs": [
    {
     "data": {
      "text/plain": [
       "'fl'"
      ]
     },
     "execution_count": 2,
     "metadata": {},
     "output_type": "execute_result"
    }
   ],
   "source": [
    "strs = [\"flower\",\"flow\",\"flight\"]\n",
    "longestCommonPrefix(strs)"
   ]
  }
 ],
 "metadata": {
  "kernelspec": {
   "display_name": "Python 3 (ipykernel)",
   "language": "python",
   "name": "python3"
  },
  "language_info": {
   "codemirror_mode": {
    "name": "ipython",
    "version": 3
   },
   "file_extension": ".py",
   "mimetype": "text/x-python",
   "name": "python",
   "nbconvert_exporter": "python",
   "pygments_lexer": "ipython3",
   "version": "3.8.2"
  }
 },
 "nbformat": 4,
 "nbformat_minor": 5
}
