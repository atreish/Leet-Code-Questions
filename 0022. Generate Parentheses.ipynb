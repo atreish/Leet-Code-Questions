{
 "cells": [
  {
   "cell_type": "markdown",
   "id": "804fa72f",
   "metadata": {},
   "source": [
    "22. Generate Parentheses\n",
    "\n",
    "Given n pairs of parentheses, write a function to generate all combinations of well-formed parentheses.\n",
    "\n"
   ]
  },
  {
   "cell_type": "code",
   "execution_count": 8,
   "id": "ad9da7c5",
   "metadata": {},
   "outputs": [],
   "source": [
    "def generateParenthesis(n):\n",
    "        \n",
    "        res = []\n",
    "        \n",
    "        def dfs (l, r, path, res):\n",
    "            \n",
    "            if r < l or l == -1 or r == -1:\n",
    "                return\n",
    "            \n",
    "            #breaking condition\n",
    "            if l == 0 and r == 0:\n",
    "                res.append(path[:])\n",
    "            \n",
    "            #recursion where we are adding parenthesis to each solution\n",
    "            else:\n",
    "                dfs(l-1, r, path + \"(\", res)\n",
    "                dfs(l, r-1, path + \")\", res)\n",
    "                \n",
    "        #return the solution where left = right = n        \n",
    "        dfs(n, n, \"\", res)\n",
    "        \n",
    "        return res"
   ]
  },
  {
   "cell_type": "code",
   "execution_count": 14,
   "id": "04b3f300",
   "metadata": {},
   "outputs": [
    {
     "data": {
      "text/plain": [
       "['(((())))',\n",
       " '((()()))',\n",
       " '((())())',\n",
       " '((()))()',\n",
       " '(()(()))',\n",
       " '(()()())',\n",
       " '(()())()',\n",
       " '(())(())',\n",
       " '(())()()',\n",
       " '()((()))',\n",
       " '()(()())',\n",
       " '()(())()',\n",
       " '()()(())',\n",
       " '()()()()']"
      ]
     },
     "execution_count": 14,
     "metadata": {},
     "output_type": "execute_result"
    }
   ],
   "source": [
    "generateParenthesis(4)"
   ]
  }
 ],
 "metadata": {
  "kernelspec": {
   "display_name": "Python 3 (ipykernel)",
   "language": "python",
   "name": "python3"
  },
  "language_info": {
   "codemirror_mode": {
    "name": "ipython",
    "version": 3
   },
   "file_extension": ".py",
   "mimetype": "text/x-python",
   "name": "python",
   "nbconvert_exporter": "python",
   "pygments_lexer": "ipython3",
   "version": "3.8.2"
  }
 },
 "nbformat": 4,
 "nbformat_minor": 5
}
