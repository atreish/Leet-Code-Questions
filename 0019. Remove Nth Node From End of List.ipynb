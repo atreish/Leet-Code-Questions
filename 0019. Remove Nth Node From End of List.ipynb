{
 "cells": [
  {
   "cell_type": "raw",
   "id": "53a8ede3",
   "metadata": {},
   "source": [
    "19. Remove Nth Node From End of List\n",
    "\n",
    "Given the head of a linked list, remove the nth node from the end of the list and return its head. "
   ]
  },
  {
   "cell_type": "code",
   "execution_count": 8,
   "id": "36cf434e",
   "metadata": {},
   "outputs": [],
   "source": [
    "from typing import List\n",
    "\n",
    "def removeNthFromEnd(head:List[] , n:int) -> []:\n",
    "        del head[-n]\n",
    "        return head"
   ]
  },
  {
   "cell_type": "code",
   "execution_count": 9,
   "id": "4b49c8cd",
   "metadata": {},
   "outputs": [
    {
     "data": {
      "text/plain": [
       "[1, 2, 3, 4, 5, 6, 7, 8, 10]"
      ]
     },
     "execution_count": 9,
     "metadata": {},
     "output_type": "execute_result"
    }
   ],
   "source": [
    "head = [1,2,3,4,5,6,7,8,9,10]\n",
    "n = 2\n",
    "\n",
    "removeNthFromEnd(head , n)"
   ]
  },
  {
   "cell_type": "code",
   "execution_count": 35,
   "id": "9735dba4",
   "metadata": {},
   "outputs": [],
   "source": [
    "def removenth(head,n) -> []:\n",
    "    \n",
    "    head[-n]\n",
    "    \n",
    "    \n",
    "    return pointer2"
   ]
  },
  {
   "cell_type": "code",
   "execution_count": 37,
   "id": "a2e03ea7",
   "metadata": {},
   "outputs": [
    {
     "data": {
      "text/plain": [
       "6"
      ]
     },
     "execution_count": 37,
     "metadata": {},
     "output_type": "execute_result"
    }
   ],
   "source": [
    "\n",
    "head = [1,2,3,4,5,6,7,8,9,10]\n",
    "n = 5\n",
    "removenth(head,n)"
   ]
  },
  {
   "cell_type": "code",
   "execution_count": null,
   "id": "6c673487",
   "metadata": {},
   "outputs": [],
   "source": []
  }
 ],
 "metadata": {
  "kernelspec": {
   "display_name": "Python 3 (ipykernel)",
   "language": "python",
   "name": "python3"
  },
  "language_info": {
   "codemirror_mode": {
    "name": "ipython",
    "version": 3
   },
   "file_extension": ".py",
   "mimetype": "text/x-python",
   "name": "python",
   "nbconvert_exporter": "python",
   "pygments_lexer": "ipython3",
   "version": "3.8.2"
  }
 },
 "nbformat": 4,
 "nbformat_minor": 5
}
