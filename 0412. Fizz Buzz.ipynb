{
 "cells": [
  {
   "cell_type": "markdown",
   "id": "2cf167fb",
   "metadata": {},
   "source": [
    "412. Fizz Buzz\n",
    "\n",
    "Given an integer n, return a string array answer (1-indexed) where:\n",
    "\n",
    "answer[i] == \"FizzBuzz\" if i is divisible by 3 and 5.\n",
    "answer[i] == \"Fizz\" if i is divisible by 3.\n",
    "answer[i] == \"Buzz\" if i is divisible by 5.\n",
    "answer[i] == i (as a string) if none of the above conditions are true.\n"
   ]
  },
  {
   "cell_type": "code",
   "execution_count": 2,
   "id": "810f867f",
   "metadata": {},
   "outputs": [],
   "source": [
    "def fizzBuzz(n: int) -> [str]:\n",
    "        output = []\n",
    "        for i in range(1,n+1):\n",
    "            if i % 3 == 0 and i % 5 == 0:\n",
    "                output.append(\"FizzBuzz\")\n",
    "            elif i%3 == 0:\n",
    "                output.append(\"Fizz\")\n",
    "            elif i%5 == 0:\n",
    "                output.append(\"Buzz\")\n",
    "            else:\n",
    "                output.append(str(i))\n",
    "        return output"
   ]
  },
  {
   "cell_type": "code",
   "execution_count": 5,
   "id": "aa7995ef",
   "metadata": {},
   "outputs": [
    {
     "data": {
      "text/plain": [
       "['1', '2', 'Fizz', '4', 'Buzz', 'Fizz', '7', '8', 'Fizz']"
      ]
     },
     "execution_count": 5,
     "metadata": {},
     "output_type": "execute_result"
    }
   ],
   "source": [
    "fizzBuzz(9)"
   ]
  },
  {
   "cell_type": "code",
   "execution_count": 7,
   "id": "1068ae59",
   "metadata": {},
   "outputs": [
    {
     "data": {
      "text/plain": [
       "['1', '2', 'Fizz', '4', 'Buzz', 'Fizz', '7', '8', 'Fizz', 'Buzz', '11']"
      ]
     },
     "execution_count": 7,
     "metadata": {},
     "output_type": "execute_result"
    }
   ],
   "source": [
    "fizzBuzz(11)"
   ]
  }
 ],
 "metadata": {
  "kernelspec": {
   "display_name": "Python 3 (ipykernel)",
   "language": "python",
   "name": "python3"
  },
  "language_info": {
   "codemirror_mode": {
    "name": "ipython",
    "version": 3
   },
   "file_extension": ".py",
   "mimetype": "text/x-python",
   "name": "python",
   "nbconvert_exporter": "python",
   "pygments_lexer": "ipython3",
   "version": "3.8.2"
  }
 },
 "nbformat": 4,
 "nbformat_minor": 5
}
