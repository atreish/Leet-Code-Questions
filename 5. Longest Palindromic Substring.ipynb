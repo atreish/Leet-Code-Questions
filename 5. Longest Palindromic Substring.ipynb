{
 "cells": [
  {
   "cell_type": "raw",
   "id": "d858ab17",
   "metadata": {},
   "source": [
    "5. Longest Palindromic Substring\n",
    "\n",
    "Given a string s, return the longest palindromic substring in s."
   ]
  },
  {
   "cell_type": "code",
   "execution_count": 1,
   "id": "98a32f3e",
   "metadata": {},
   "outputs": [],
   "source": [
    "def longestPalindrome(s: str) -> str:\n",
    "        \n",
    "    def checkPoli(wor):\n",
    "        return wor == wor[::-1] \n",
    "\n",
    "    polyndroms=[]\n",
    "\n",
    "    for i in range(len(s)):\n",
    "        for j  in range(i,len(s)+1):\n",
    "            if s[i] == s[j-1]:\n",
    "                if checkPoli(s[i:j]):\n",
    "                    polyndroms.append( s[i:j])\n",
    "\n",
    "    return max(polyndroms, key=len)"
   ]
  },
  {
   "cell_type": "code",
   "execution_count": 2,
   "id": "64d77511",
   "metadata": {},
   "outputs": [],
   "source": [
    "def longestPalindrome1(s: str) -> str:\n",
    "    def checkPoli(wor):\n",
    "        return wor == wor[::-1]\n",
    "\n",
    "    leng = len(s)\n",
    "    record = 0\n",
    "    record_word = \"\"\n",
    "    \n",
    "    for i in range(leng):\n",
    "        for z in range(leng, i, -1):\n",
    "            new_word = s[i:z]\n",
    "            new_r = len(new_word)\n",
    "            \n",
    "            if new_r <= record:\n",
    "                break\n",
    "            if checkPoli(new_word):\n",
    "                if new_r > record:\n",
    "                    record = new_r\n",
    "                    record_word = new_word\n",
    "                    break\n",
    "    return record_word"
   ]
  },
  {
   "cell_type": "code",
   "execution_count": 4,
   "id": "e204f04d",
   "metadata": {},
   "outputs": [],
   "source": [
    "words = [\"madam\", \"racecar\", \"level\", \"civic\", \"deified\", \"pop\", \"wow\", \"rotator\", \"refer\", \n",
    "         \"redivider\", \"repaper\", \"reviver\", \"rotor\", \"sagas\", \"solos\", \"stats\", \"tenet\", \"redder\",\n",
    "         \"madamimadam\",\"deified\",\"deified\",\"civic\",\"level\",\"radar\",\"wow\",\"pop\",\"mom\",\"dad\",\"noon\",\n",
    "         \"eye\",\"level\",\"madam\",\"racecar\",\"civic\",\"sagas\",\"solos\",\"stats\",\"tenet\",\"redder\",\"redivider\",\n",
    "         \"repaper\",\"reviver\",\"rotor\",\"hello\", \"goodbye\", \"cat\", \"dog\", \"house\", \"car\", \"book\", \"computer\", \n",
    "         \"table\", \"desk\", \"chair\", \"pen\", \"pencil\", \"paper\", \"keyboard\", \"monitor\", \"mouse\", \"telephone\", \n",
    "         \"television\", \"furniture\", \"appliance\", \"tree\", \"flower\", \"plant\", \"fruit\", \"vegetable\", \"sofa\", \n",
    "         \"couch\", \"ottoman\", \"stool\", \"bed\", \"dresser\", \"nightstand\", \"lamp\", \"picture\", \"frame\", \"mirror\", \n",
    "         \"clock\", \"watch\", \"jewelry\", \"ring\", \"necklace\", \"bracelet\", \"earrings\", \"watch\", \"belt\", \"bag\", \n",
    "         \"purse\", \"wallet\", \"shoe\", \"boot\", \"sandal\", \"loafers\", \"sneakers\", \"hat\", \"cap\", \"scarf\", \"gloves\",\n",
    "         \"mittens\", \"coffee\", \"tea\", \"juice\", \"water\", \"milk\", \"soda\", \"beer\", \"wine\", \"champagne\", \"whiskey\", \n",
    "         \"vodka\", \"gin\", \"rum\", \"cognac\", \"brandy\", \"liquor\", \"cocktail\", \"juice\", \"food\", \"cooking\", \n",
    "         \"restaurant\", \"kitchen\", \"baking\", \"dinner\", \"lunch\", \"breakfast\", \"recipe\", \"ingredient\", \"spice\", \n",
    "         \"salt\", \"sugar\", \"pepper\", \"flour\", \"yeast\", \"egg\", \"milk\", \"butter\", \"cheese\", \"chocolate\", \"candy\", \n",
    "         \"cookie\", \"pie\", \"cake\", \"bread\"]"
   ]
  },
  {
   "cell_type": "code",
   "execution_count": 9,
   "id": "3b9b4885",
   "metadata": {},
   "outputs": [
    {
     "name": "stdout",
     "output_type": "stream",
     "text": [
      "madam\n",
      "racecar\n",
      "level\n",
      "civic\n",
      "deified\n",
      "pop\n",
      "wow\n",
      "rotator\n",
      "refer\n",
      "redivider\n",
      "repaper\n",
      "reviver\n",
      "rotor\n",
      "sagas\n",
      "solos\n",
      "stats\n",
      "tenet\n",
      "redder\n",
      "madamimadam\n",
      "deified\n",
      "deified\n",
      "civic\n",
      "level\n",
      "radar\n",
      "wow\n",
      "pop\n",
      "mom\n",
      "dad\n",
      "noon\n",
      "eye\n",
      "level\n",
      "madam\n",
      "racecar\n",
      "civic\n",
      "sagas\n",
      "solos\n",
      "stats\n",
      "tenet\n",
      "redder\n",
      "redivider\n",
      "repaper\n",
      "reviver\n",
      "rotor\n"
     ]
    }
   ],
   "source": [
    "for s in words:\n",
    "    print(longestPalindrome(s))"
   ]
  },
  {
   "cell_type": "code",
   "execution_count": null,
   "id": "c1fd439c",
   "metadata": {},
   "outputs": [],
   "source": []
  }
 ],
 "metadata": {
  "kernelspec": {
   "display_name": "Python 3 (ipykernel)",
   "language": "python",
   "name": "python3"
  },
  "language_info": {
   "codemirror_mode": {
    "name": "ipython",
    "version": 3
   },
   "file_extension": ".py",
   "mimetype": "text/x-python",
   "name": "python",
   "nbconvert_exporter": "python",
   "pygments_lexer": "ipython3",
   "version": "3.8.2"
  }
 },
 "nbformat": 4,
 "nbformat_minor": 5
}
