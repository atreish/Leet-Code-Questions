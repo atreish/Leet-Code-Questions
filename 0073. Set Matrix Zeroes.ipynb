{
 "cells": [
  {
   "cell_type": "markdown",
   "id": "cfbde634",
   "metadata": {},
   "source": [
    "Given an m x n integer matrix matrix, if an element is 0, set its entire row and column to 0's. \n",
    "You must do it in place."
   ]
  },
  {
   "cell_type": "code",
   "execution_count": 11,
   "id": "685cae7d",
   "metadata": {},
   "outputs": [],
   "source": [
    "from typing import List\n",
    "\n",
    "class Solution:\n",
    "    def setZeroes(self, matrix: List[List[int]]) -> None:\n",
    "        cols=[]\n",
    "        rows=[]\n",
    "        for i in range(len(matrix)):\n",
    "            for j in range(len(matrix[i])):\n",
    "                if matrix[i][j] == 0:\n",
    "                    rows.append(i)\n",
    "                    cols.append(j)\n",
    "\n",
    "        cols = set(cols)\n",
    "        rows = set(rows)\n",
    "\n",
    "        for i in rows:\n",
    "            matrix[i] = [0 for j in matrix[i]]\n",
    "\n",
    "        for j in cols:\n",
    "            for i in range(len(matrix)):\n",
    "                matrix[i][j] = 0\n",
    "                \n",
    "        return matrix"
   ]
  },
  {
   "cell_type": "code",
   "execution_count": 12,
   "id": "a122251c",
   "metadata": {},
   "outputs": [
    {
     "data": {
      "text/plain": [
       "[[1, 0, 1], [0, 0, 0], [1, 0, 1]]"
      ]
     },
     "execution_count": 12,
     "metadata": {},
     "output_type": "execute_result"
    }
   ],
   "source": [
    "matrix = [[1,1,1],[1,0,1],[1,1,1]]\n",
    "solver = Solution\n",
    "solver.setZeroes(solver, matrix)"
   ]
  }
 ],
 "metadata": {
  "kernelspec": {
   "display_name": "Python 3 (ipykernel)",
   "language": "python",
   "name": "python3"
  },
  "language_info": {
   "codemirror_mode": {
    "name": "ipython",
    "version": 3
   },
   "file_extension": ".py",
   "mimetype": "text/x-python",
   "name": "python",
   "nbconvert_exporter": "python",
   "pygments_lexer": "ipython3",
   "version": "3.8.2"
  }
 },
 "nbformat": 4,
 "nbformat_minor": 5
}
