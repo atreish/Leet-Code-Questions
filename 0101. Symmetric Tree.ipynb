{
 "cells": [
  {
   "cell_type": "raw",
   "id": "16b3a245",
   "metadata": {},
   "source": [
    "101. Symmetric Tree\n",
    "\n",
    "Given the root of a binary tree, check whether it is a mirror of itself (i.e., symmetric around its center)."
   ]
  },
  {
   "cell_type": "code",
   "execution_count": 1,
   "id": "3e8a1860",
   "metadata": {},
   "outputs": [],
   "source": [
    "def isSymmetric(root):\n",
    "    if not root:\n",
    "        return True\n",
    "    stack = [(root.left, root.right)]\n",
    "    while stack:\n",
    "        l, r = stack.pop()\n",
    "        if not l and not r:\n",
    "            continue\n",
    "        if not l or not r:\n",
    "            return False\n",
    "        if l.val != r.val:\n",
    "            return False\n",
    "        stack.append((l.left, r.right))\n",
    "        stack.append((l.right, r.left))\n",
    "    return True"
   ]
  },
  {
   "cell_type": "code",
   "execution_count": 2,
   "id": "18c49d9f",
   "metadata": {},
   "outputs": [],
   "source": [
    "'''To be able to test a tree, first we need to convert a list of values into a TreeNode class datatype\n",
    "which is completed with the code in this block'''\n",
    "\n",
    "class TreeNode(object):\n",
    "    def __init__(self, x):\n",
    "        self.val = x\n",
    "        self.left = None\n",
    "        self.right = None\n",
    "\n",
    "\n",
    "def creatBTree(data, index):\n",
    "        pNode = None\n",
    "        if index < len(data):\n",
    "            if data[index] == None:\n",
    "                return\n",
    "            pNode = TreeNode(data[index])\n",
    "            pNode.left = creatBTree(data, 2 * index + 1) \n",
    "            pNode.right = creatBTree(data, 2 * index + 2) \n",
    "        return pNode "
   ]
  },
  {
   "cell_type": "code",
   "execution_count": 3,
   "id": "75643633",
   "metadata": {},
   "outputs": [
    {
     "data": {
      "text/plain": [
       "True"
      ]
     },
     "execution_count": 3,
     "metadata": {},
     "output_type": "execute_result"
    }
   ],
   "source": [
    "'''Example on a Symmetric Tree should give a True boolean value'''\n",
    "root_eg1 = [1,2,2,3,4,4,3]\n",
    "root_eg1 = creatBTree(root_eg1, 0)\n",
    "isSymmetric(root_eg1)"
   ]
  },
  {
   "cell_type": "code",
   "execution_count": 4,
   "id": "63759e08",
   "metadata": {},
   "outputs": [
    {
     "data": {
      "text/plain": [
       "False"
      ]
     },
     "execution_count": 4,
     "metadata": {},
     "output_type": "execute_result"
    }
   ],
   "source": [
    "'''Example on a Non-Symmetric Tree should give a False boolean value'''\n",
    "root_eg2 = [1,2,45,3,5,2,4,5,2]\n",
    "root_eg2 = creatBTree(root_eg2, 0)\n",
    "isSymmetric(root_eg2)"
   ]
  },
  {
   "cell_type": "markdown",
   "id": "965435fc",
   "metadata": {},
   "source": [
    "Links:\n",
    "\n",
    "https://stackoverflow.com/questions/58896039/how-do-i-make-treenode-from-list-by-python"
   ]
  }
 ],
 "metadata": {
  "kernelspec": {
   "display_name": "Python 3 (ipykernel)",
   "language": "python",
   "name": "python3"
  },
  "language_info": {
   "codemirror_mode": {
    "name": "ipython",
    "version": 3
   },
   "file_extension": ".py",
   "mimetype": "text/x-python",
   "name": "python",
   "nbconvert_exporter": "python",
   "pygments_lexer": "ipython3",
   "version": "3.8.2"
  }
 },
 "nbformat": 4,
 "nbformat_minor": 5
}
