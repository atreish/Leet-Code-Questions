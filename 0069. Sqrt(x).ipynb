{
 "cells": [
  {
   "cell_type": "raw",
   "id": "f5b9b7c0",
   "metadata": {},
   "source": [
    "69. Sqrt(x)\n",
    "\n",
    "Given a non-negative integer x, return the square root of x rounded down to the nearest integer. The returned integer should be non-negative as well.\n",
    "\n",
    "You must not use any built-in exponent function or operator.\n",
    "\n",
    "For example, do not use pow(x, 0.5) in c++ or x ** 0.5 in python."
   ]
  },
  {
   "cell_type": "code",
   "execution_count": 1,
   "id": "900cab92",
   "metadata": {},
   "outputs": [],
   "source": [
    "def mySqrt(x: int) -> int:\n",
    "    \n",
    "        low = 0\n",
    "        high = x\n",
    "        \n",
    "        while low <= high:\n",
    "            mid = low + (high - low) // 2\n",
    "            \n",
    "            if mid * mid == x:\n",
    "                return mid\n",
    "            \n",
    "            elif mid * mid < x:\n",
    "                ans = mid\n",
    "                low = mid + 1 #iterate up the number line\n",
    "                \n",
    "            else:\n",
    "                high = mid - 1 #iterate the numberline down\n",
    "        return ans"
   ]
  },
  {
   "cell_type": "code",
   "execution_count": 5,
   "id": "35d62a61",
   "metadata": {},
   "outputs": [
    {
     "name": "stdout",
     "output_type": "stream",
     "text": [
      "Number = 864   and   Solution = 29  True Square = 841\n",
      "Number = 484   and   Solution = 22  True Square = 484\n",
      "Number = 404   and   Solution = 20  True Square = 400\n",
      "Number = 353   and   Solution = 18  True Square = 324\n",
      "Number = 900   and   Solution = 30  True Square = 900\n",
      "Number = 859   and   Solution = 29  True Square = 841\n",
      "Number = 813   and   Solution = 28  True Square = 784\n",
      "Number = 306   and   Solution = 17  True Square = 289\n",
      "Number = 501   and   Solution = 22  True Square = 484\n",
      "Number = 422   and   Solution = 20  True Square = 400\n"
     ]
    }
   ],
   "source": [
    "import random \n",
    "\n",
    "testcases = random.sample(range(0, 1000), 10)\n",
    "for i in testcases:\n",
    "    print(f\"Number = {i}   and   Solution = {mySqrt(i)}  True Square = {mySqrt(i)*mySqrt(i)}\")"
   ]
  }
 ],
 "metadata": {
  "kernelspec": {
   "display_name": "Python 3 (ipykernel)",
   "language": "python",
   "name": "python3"
  },
  "language_info": {
   "codemirror_mode": {
    "name": "ipython",
    "version": 3
   },
   "file_extension": ".py",
   "mimetype": "text/x-python",
   "name": "python",
   "nbconvert_exporter": "python",
   "pygments_lexer": "ipython3",
   "version": "3.8.2"
  }
 },
 "nbformat": 4,
 "nbformat_minor": 5
}
