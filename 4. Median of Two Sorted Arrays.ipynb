{
 "cells": [
  {
   "cell_type": "raw",
   "id": "69790f1b",
   "metadata": {},
   "source": [
    "4. Median of Two Sorted Arrays\n",
    "\n",
    "Given two sorted arrays nums1 and nums2 of size m and n respectively, return the median of the two sorted arrays. The overall run time complexity should be O(log (m+n))."
   ]
  },
  {
   "cell_type": "code",
   "execution_count": 1,
   "id": "4b9173f8",
   "metadata": {},
   "outputs": [],
   "source": [
    "from typing import List\n",
    "\n",
    "def findMedianSortedArrays(nums1: List[int], nums2: List[int]) -> float:\n",
    "        m = len(nums1)\n",
    "        n = len(nums2)\n",
    "\n",
    "        merge = nums1 + nums2\n",
    "        merge.sort()\n",
    "\n",
    "        total = m + n\n",
    "\n",
    "        half = total//2\n",
    "        odd = total%2\n",
    "\n",
    "        if odd:\n",
    "            return merge[half]\n",
    "        else:\n",
    "            return (merge[half-1] + merge[half])/2"
   ]
  },
  {
   "cell_type": "code",
   "execution_count": 2,
   "id": "4d1e4cbc",
   "metadata": {},
   "outputs": [
    {
     "data": {
      "text/plain": [
       "5.5"
      ]
     },
     "execution_count": 2,
     "metadata": {},
     "output_type": "execute_result"
    }
   ],
   "source": [
    "'''Example of execution of Function'''\n",
    "\n",
    "nums1 = [1,2,3,4,5]\n",
    "nums2 = [6,7,8,9,10]\n",
    "\n",
    "findMedianSortedArrays(nums1,nums2)"
   ]
  },
  {
   "cell_type": "code",
   "execution_count": null,
   "id": "10f6cb34",
   "metadata": {},
   "outputs": [],
   "source": []
  },
  {
   "cell_type": "code",
   "execution_count": null,
   "id": "ba17730d",
   "metadata": {},
   "outputs": [],
   "source": []
  },
  {
   "cell_type": "code",
   "execution_count": null,
   "id": "36f21d35",
   "metadata": {},
   "outputs": [],
   "source": []
  },
  {
   "cell_type": "code",
   "execution_count": null,
   "id": "a832826f",
   "metadata": {},
   "outputs": [],
   "source": []
  }
 ],
 "metadata": {
  "kernelspec": {
   "display_name": "Python 3 (ipykernel)",
   "language": "python",
   "name": "python3"
  },
  "language_info": {
   "codemirror_mode": {
    "name": "ipython",
    "version": 3
   },
   "file_extension": ".py",
   "mimetype": "text/x-python",
   "name": "python",
   "nbconvert_exporter": "python",
   "pygments_lexer": "ipython3",
   "version": "3.8.2"
  }
 },
 "nbformat": 4,
 "nbformat_minor": 5
}
