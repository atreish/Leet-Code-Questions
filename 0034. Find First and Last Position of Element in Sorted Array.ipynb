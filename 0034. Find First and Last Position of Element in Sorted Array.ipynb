{
 "cells": [
  {
   "cell_type": "code",
   "execution_count": 1,
   "id": "251f3f58",
   "metadata": {},
   "outputs": [],
   "source": [
    "from typing import List"
   ]
  },
  {
   "cell_type": "markdown",
   "id": "a7728a26",
   "metadata": {},
   "source": [
    "Given an array of integers nums sorted in non-decreasing order, find the starting and ending position of a given target value.\n",
    "\n",
    "If target is not found in the array, return [-1, -1].\n",
    "\n",
    "You must write an algorithm with O(log n) runtime complexity."
   ]
  },
  {
   "cell_type": "code",
   "execution_count": 2,
   "id": "3d1a2f01",
   "metadata": {},
   "outputs": [],
   "source": [
    "class Solution:\n",
    "    def searchRange(self, nums: List[int], target: int) -> List[int]:\n",
    "        if len(nums)==0:\n",
    "            return [-1,-1]\n",
    "\n",
    "        def find_range(l, r, side):\n",
    "            pointer = l + (r-l)//2\n",
    "            while True:\n",
    "                if nums[pointer] == target:\n",
    "                    if side =='Left':\n",
    "                        if pointer > 0 and nums[pointer - 1] != target:\n",
    "                            break\n",
    "                        elif pointer == 0:\n",
    "                            return 0\n",
    "                    elif side =='Right':\n",
    "                        if pointer < len(nums) -1 and nums[pointer + 1] != target:\n",
    "                            break\n",
    "                        elif pointer == len(nums) -1:\n",
    "                            return len(nums) -1\n",
    "                    else:\n",
    "                        print(\"ERROR\")\n",
    "                        return -1\n",
    "                \n",
    "                if l==r: return -1\n",
    "\n",
    "                if ((r-l)//2) == 0: \n",
    "                    if nums[r]==target:\n",
    "                        return r\n",
    "                    elif nums[l]==target:\n",
    "                        return l\n",
    "                    else:\n",
    "                        return -1\n",
    "\n",
    "                if nums[pointer] < target or (side =='Right' and nums[pointer] == target):\n",
    "                    # move to Right\n",
    "                    l = pointer\n",
    "                elif nums[pointer] > target or (side =='Left' and nums[pointer] == target):\n",
    "                    # move to left\n",
    "                    r = pointer\n",
    "                pointer = l + (r-l)//2\n",
    "            return pointer\n",
    "\n",
    "        \n",
    "        l = 0\n",
    "        r = len(nums) -1\n",
    "        left = find_range(l, r, side = 'Left')\n",
    "\n",
    "        if left == -1:\n",
    "            return [-1,-1]\n",
    "\n",
    "        right = find_range(left, r, side = 'Right')\n",
    "        return [left,right] "
   ]
  },
  {
   "cell_type": "code",
   "execution_count": 3,
   "id": "c19be84f",
   "metadata": {},
   "outputs": [
    {
     "name": "stdout",
     "output_type": "stream",
     "text": [
      "nums: [5, 7, 7, 8, 8, 10], target: 8, Output: [3, 4]\n"
     ]
    }
   ],
   "source": [
    "solver = Solution\n",
    "\n",
    "nums = [5,7,7,8,8,10]\n",
    "target = 8\n",
    "print(f\"nums: {nums}, target: {target}, Output: {solver.searchRange(solver, nums, target)}\")"
   ]
  },
  {
   "cell_type": "code",
   "execution_count": 4,
   "id": "ac072f4e",
   "metadata": {},
   "outputs": [
    {
     "name": "stdout",
     "output_type": "stream",
     "text": [
      "nums: [5, 7, 7, 8, 8, 10], target: 6, Output: [-1, -1]\n"
     ]
    }
   ],
   "source": [
    "nums = [5,7,7,8,8,10]\n",
    "target = 6\n",
    "print(f\"nums: {nums}, target: {target}, Output: {solver.searchRange(solver, nums, target)}\")"
   ]
  },
  {
   "cell_type": "code",
   "execution_count": 5,
   "id": "61816751",
   "metadata": {},
   "outputs": [
    {
     "name": "stdout",
     "output_type": "stream",
     "text": [
      "nums: [], target: 0, Output: [-1, -1]\n"
     ]
    }
   ],
   "source": [
    "nums = []\n",
    "target = 0\n",
    "print(f\"nums: {nums}, target: {target}, Output: {solver.searchRange(solver, nums, target)}\")"
   ]
  }
 ],
 "metadata": {
  "kernelspec": {
   "display_name": "Python 3 (ipykernel)",
   "language": "python",
   "name": "python3"
  },
  "language_info": {
   "codemirror_mode": {
    "name": "ipython",
    "version": 3
   },
   "file_extension": ".py",
   "mimetype": "text/x-python",
   "name": "python",
   "nbconvert_exporter": "python",
   "pygments_lexer": "ipython3",
   "version": "3.8.2"
  }
 },
 "nbformat": 4,
 "nbformat_minor": 5
}
