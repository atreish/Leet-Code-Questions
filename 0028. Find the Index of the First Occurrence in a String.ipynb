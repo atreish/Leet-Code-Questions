{
 "cells": [
  {
   "cell_type": "markdown",
   "id": "a7728a26",
   "metadata": {},
   "source": [
    "Given two strings needle and haystack, return the index of the first occurrence of needle in haystack, or -1 if needle is not part of haystack."
   ]
  },
  {
   "cell_type": "code",
   "execution_count": 1,
   "id": "3d1a2f01",
   "metadata": {},
   "outputs": [],
   "source": [
    "class Solution:\n",
    "    def strStr(self, haystack: str, needle: str) -> int:\n",
    "        leng = len(needle)\n",
    "        for pos, elem in enumerate(haystack):\n",
    "            if haystack[pos:pos+leng] == needle:\n",
    "                return pos\n",
    "        return -1"
   ]
  },
  {
   "cell_type": "code",
   "execution_count": 2,
   "id": "c19be84f",
   "metadata": {},
   "outputs": [
    {
     "name": "stdout",
     "output_type": "stream",
     "text": [
      "haystack: sadbutsad, needle: sad, Output: 0\n"
     ]
    }
   ],
   "source": [
    "solver = Solution\n",
    "\n",
    "haystack = \"sadbutsad\"\n",
    "needle = \"sad\"\n",
    "print(f\"haystack: {haystack}, needle: {needle}, Output: {solver.strStr(solver, haystack, needle)}\")"
   ]
  },
  {
   "cell_type": "code",
   "execution_count": 3,
   "id": "fd3b26a0",
   "metadata": {},
   "outputs": [
    {
     "name": "stdout",
     "output_type": "stream",
     "text": [
      "haystack: leetcode, needle: leeto, Output: -1\n"
     ]
    }
   ],
   "source": [
    "haystack = \"leetcode\"\n",
    "needle = \"leeto\"\n",
    "print(f\"haystack: {haystack}, needle: {needle}, Output: {solver.strStr(solver, haystack, needle)}\")"
   ]
  }
 ],
 "metadata": {
  "kernelspec": {
   "display_name": "Python 3 (ipykernel)",
   "language": "python",
   "name": "python3"
  },
  "language_info": {
   "codemirror_mode": {
    "name": "ipython",
    "version": 3
   },
   "file_extension": ".py",
   "mimetype": "text/x-python",
   "name": "python",
   "nbconvert_exporter": "python",
   "pygments_lexer": "ipython3",
   "version": "3.8.2"
  }
 },
 "nbformat": 4,
 "nbformat_minor": 5
}
