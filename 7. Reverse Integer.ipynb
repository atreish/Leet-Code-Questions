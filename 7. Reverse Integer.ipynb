{
 "cells": [
  {
   "cell_type": "raw",
   "id": "b06ebf28",
   "metadata": {},
   "source": [
    "7. Reverse Integer\n",
    "\n",
    "Given a signed 32-bit integer x, return x with its digits reversed. If reversing x causes the value to go outside the signed 32-bit integer range [-231, 231 - 1], then return 0.\n",
    "\n",
    "Assume the environment does not allow you to store 64-bit integers (signed or unsigned)."
   ]
  },
  {
   "cell_type": "code",
   "execution_count": 23,
   "id": "300998d4",
   "metadata": {},
   "outputs": [],
   "source": [
    "def reverse(x: int) -> int:\n",
    "    isNegative = False\n",
    "    if x < 0:\n",
    "        isNegative = True\n",
    "        x = -x\n",
    "    reversedNumber = 0\n",
    "    while x !=0 :\n",
    "        digit = x % 10\n",
    "        reversedNumber = reversedNumber * 10 + digit\n",
    "        x //= 10\n",
    "    if reversedNumber >= 2 ** 31 - 1 or reversedNumber <= -2 ** 31:\n",
    "        return 0\n",
    "    if isNegative:\n",
    "        return -reversedNumber\n",
    "    else: \n",
    "        return reversedNumber"
   ]
  },
  {
   "cell_type": "code",
   "execution_count": 24,
   "id": "00e6db57",
   "metadata": {},
   "outputs": [
    {
     "data": {
      "text/plain": [
       "[[950525, 525059],\n",
       " [-790089, -980097],\n",
       " [-138259, -952831],\n",
       " [-341736, -637143],\n",
       " [234722, 227432],\n",
       " [89159, 95198],\n",
       " [684874, 478486],\n",
       " [-674904, -409476],\n",
       " [443258, 852344],\n",
       " [-340353, -353043]]"
      ]
     },
     "execution_count": 24,
     "metadata": {},
     "output_type": "execute_result"
    }
   ],
   "source": [
    "'''Test the function on 10 different numbers'''\n",
    "\n",
    "import random\n",
    "\n",
    "h = [random.randint(-1000000, 1000000) for i in range(10)]\n",
    "\n",
    "inverse = []\n",
    "for i in h:\n",
    "    inverse.append([i,reverse(i)])\n",
    "\n",
    "inverse"
   ]
  }
 ],
 "metadata": {
  "kernelspec": {
   "display_name": "Python 3 (ipykernel)",
   "language": "python",
   "name": "python3"
  },
  "language_info": {
   "codemirror_mode": {
    "name": "ipython",
    "version": 3
   },
   "file_extension": ".py",
   "mimetype": "text/x-python",
   "name": "python",
   "nbconvert_exporter": "python",
   "pygments_lexer": "ipython3",
   "version": "3.8.2"
  }
 },
 "nbformat": 4,
 "nbformat_minor": 5
}
