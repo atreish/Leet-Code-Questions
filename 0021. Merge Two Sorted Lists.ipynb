{
 "cells": [
  {
   "cell_type": "raw",
   "id": "b23c3d43",
   "metadata": {},
   "source": [
    "21. Merge Two Sorted Lists\n",
    "\n",
    "You are given the heads of two sorted linked lists list1 and list2. Merge the two lists in a one sorted list. The list should be made by splicing together the nodes of the first two lists. Return the head of the merged linked list."
   ]
  },
  {
   "cell_type": "code",
   "execution_count": 1,
   "id": "6b65bb4c",
   "metadata": {},
   "outputs": [],
   "source": [
    "from typing import Optional\n",
    "\n",
    "class ListNode:\n",
    "    def _init_(self, val=0, next=None):\n",
    "        self.val = val\n",
    "        self.next = next\n",
    "        \n",
    "class Solution:\n",
    "    def mergeTwoLists(self, list1: Optional[ListNode], list2: Optional[ListNode]) -> Optional[ListNode]:\n",
    "\n",
    "        ini = ListNode(val = -150)\n",
    "        current = ini\n",
    "        \n",
    "        while list1 != None or list2 != None:\n",
    "\n",
    "            elem1 = list1.val if list1!= None else 150\n",
    "            elem2 = list2.val if list2!= None else 150\n",
    "\n",
    "            if elem1<elem2:\n",
    "                current.next = ListNode(val=elem1)\n",
    "                list1 = list1.next if list1 != None else None\n",
    "            else:\n",
    "                current.next = ListNode(val=elem2)\n",
    "                list2 = list2.next if list2 != None else None\n",
    "            \n",
    "            current = current.next\n",
    "\n",
    "            \n",
    "        return ini.next"
   ]
  }
 ],
 "metadata": {
  "kernelspec": {
   "display_name": "Python 3 (ipykernel)",
   "language": "python",
   "name": "python3"
  },
  "language_info": {
   "codemirror_mode": {
    "name": "ipython",
    "version": 3
   },
   "file_extension": ".py",
   "mimetype": "text/x-python",
   "name": "python",
   "nbconvert_exporter": "python",
   "pygments_lexer": "ipython3",
   "version": "3.8.2"
  }
 },
 "nbformat": 4,
 "nbformat_minor": 5
}
