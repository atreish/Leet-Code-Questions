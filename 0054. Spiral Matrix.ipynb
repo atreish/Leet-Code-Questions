{
 "cells": [
  {
   "cell_type": "markdown",
   "id": "d6e11566",
   "metadata": {},
   "source": [
    "Given an m x n matrix, return all elements of the matrix in spiral order."
   ]
  },
  {
   "cell_type": "code",
   "execution_count": 1,
   "id": "4872bce8",
   "metadata": {},
   "outputs": [],
   "source": [
    "from typing import List\n",
    "\n",
    "class Solution:\n",
    "    def spiralOrder(self, matrix: List[List[int]]) -> List[int]:\n",
    "        m = len(matrix)\n",
    "        n = len(matrix[0])\n",
    "        order = [\"R\",\"D\",\"L\",\"U\"]\n",
    "        posx, posy = 0, 0\n",
    "        border_up = -1\n",
    "        border_down = m\n",
    "        border_left = -1\n",
    "        border_right = n\n",
    "        output = []\n",
    "        b = 0\n",
    "        \n",
    "        while b < m * n:\n",
    "            b+=1\n",
    "            # Add Element\n",
    "            output.append(matrix[posy][posx])\n",
    "            # Move\n",
    "            direction = order[0]\n",
    "            \n",
    "            if direction == \"R\":\n",
    "                # Right\n",
    "                if posx == border_right - 1:\n",
    "                    order.append(order.pop(0)) # Change Direction\n",
    "                    border_up +=1\n",
    "                    posy += 1\n",
    "                else:\n",
    "                    posx += 1\n",
    "                    \n",
    "            elif direction == \"L\":\n",
    "                # Left\n",
    "                if posx == border_left + 1:\n",
    "                    order.append(order.pop(0)) # Change Direction\n",
    "                    border_down -=1\n",
    "                    posy -= 1\n",
    "                else:\n",
    "                    posx -= 1\n",
    "                    \n",
    "            elif direction == \"D\":\n",
    "                # Down\n",
    "                if posy == border_down - 1:\n",
    "                    order.append(order.pop(0)) # Change Direction\n",
    "                    border_right -= 1\n",
    "                    posx -= 1\n",
    "                else:\n",
    "                    posy += 1\n",
    "            else:\n",
    "                # Up\n",
    "                if posy == border_up + 1:\n",
    "                    order.append(order.pop(0)) # Change Direction\n",
    "                    border_left += 1\n",
    "                    posx += 1\n",
    "                else:\n",
    "                    posy -= 1\n",
    "                    \n",
    "        return output"
   ]
  },
  {
   "cell_type": "code",
   "execution_count": 2,
   "id": "e10ac0e6",
   "metadata": {},
   "outputs": [
    {
     "data": {
      "text/plain": [
       "[1, 2, 3, 6, 9, 8, 7, 4, 5]"
      ]
     },
     "execution_count": 2,
     "metadata": {},
     "output_type": "execute_result"
    }
   ],
   "source": [
    "solver = Solution\n",
    "matrix =[[1,2,3],[4,5,6],[7,8,9]]\n",
    "solver.spiralOrder(solver,matrix)"
   ]
  }
 ],
 "metadata": {
  "kernelspec": {
   "display_name": "Python 3 (ipykernel)",
   "language": "python",
   "name": "python3"
  },
  "language_info": {
   "codemirror_mode": {
    "name": "ipython",
    "version": 3
   },
   "file_extension": ".py",
   "mimetype": "text/x-python",
   "name": "python",
   "nbconvert_exporter": "python",
   "pygments_lexer": "ipython3",
   "version": "3.8.2"
  }
 },
 "nbformat": 4,
 "nbformat_minor": 5
}
