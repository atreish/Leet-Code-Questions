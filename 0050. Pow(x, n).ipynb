{
 "cells": [
  {
   "cell_type": "markdown",
   "id": "15b9ab41",
   "metadata": {},
   "source": [
    "Implement pow(x, n), which calculates x raised to the power n (i.e., xn)."
   ]
  },
  {
   "cell_type": "code",
   "execution_count": 1,
   "id": "eaa83d17",
   "metadata": {},
   "outputs": [],
   "source": [
    "class Solution:\n",
    "    def myPow(self, x: float, n: int) -> float:\n",
    "        if n==0: return 1\n",
    "        sol = x\n",
    "        abs_n = abs(n)\n",
    "        jump = x\n",
    "        count = 1\n",
    "        while abs_n > 1:\n",
    "            jump = x\n",
    "            count = 1\n",
    "            while abs_n-count > 0:\n",
    "                sol *= jump\n",
    "                abs_n -= count\n",
    "                jump *= x \n",
    "                count += 1\n",
    "        return sol if n>0 else 1/sol"
   ]
  },
  {
   "cell_type": "code",
   "execution_count": 2,
   "id": "3552fd63",
   "metadata": {},
   "outputs": [
    {
     "name": "stdout",
     "output_type": "stream",
     "text": [
      "X=2 to the power of 0 = 1\n",
      "X=2 to the power of 1 = 2\n",
      "X=2 to the power of 2 = 4\n",
      "X=2 to the power of 3 = 8\n",
      "X=2 to the power of 4 = 16\n",
      "X=2 to the power of 5 = 32\n",
      "X=2 to the power of 6 = 64\n",
      "X=2 to the power of 7 = 128\n",
      "X=2 to the power of 8 = 256\n",
      "X=2 to the power of 9 = 512\n"
     ]
    }
   ],
   "source": [
    "solver = Solution\n",
    "x = 2\n",
    "for n in range(10):\n",
    "    print(f'X={x} to the power of {n} = {solver.myPow(solver,x,n)}')"
   ]
  }
 ],
 "metadata": {
  "kernelspec": {
   "display_name": "Python 3 (ipykernel)",
   "language": "python",
   "name": "python3"
  },
  "language_info": {
   "codemirror_mode": {
    "name": "ipython",
    "version": 3
   },
   "file_extension": ".py",
   "mimetype": "text/x-python",
   "name": "python",
   "nbconvert_exporter": "python",
   "pygments_lexer": "ipython3",
   "version": "3.8.2"
  }
 },
 "nbformat": 4,
 "nbformat_minor": 5
}
