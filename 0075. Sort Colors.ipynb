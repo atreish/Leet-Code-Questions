{
 "cells": [
  {
   "cell_type": "markdown",
   "id": "c9e1760e",
   "metadata": {},
   "source": [
    "Given an array nums with n objects colored red, white, or blue, sort them in-place so that objects of the same color are adjacent, with the colors in the order red, white, and blue.\n",
    "\n",
    "We will use the integers 0, 1, and 2 to represent the color red, white, and blue, respectively.\n",
    "\n",
    "You must solve this problem without using the library's sort function."
   ]
  },
  {
   "cell_type": "code",
   "execution_count": 1,
   "id": "bb9f716f",
   "metadata": {},
   "outputs": [],
   "source": [
    "class Solution:\n",
    "    def sortColors(self, nums):\n",
    "        red, white, blue = 0, 0, len(nums)-1\n",
    "        \n",
    "        while white <= blue:\n",
    "            if nums[white] == 0:\n",
    "                nums[red], nums[white] = nums[white], nums[red]\n",
    "                white += 1\n",
    "                red += 1\n",
    "            elif nums[white] == 1:\n",
    "                white += 1\n",
    "            else:\n",
    "                nums[white], nums[blue] = nums[blue], nums[white]\n",
    "                blue -= 1"
   ]
  },
  {
   "cell_type": "code",
   "execution_count": 2,
   "id": "eefe8938",
   "metadata": {},
   "outputs": [
    {
     "data": {
      "text/plain": [
       "[0, 0, 1, 1, 2, 2]"
      ]
     },
     "execution_count": 2,
     "metadata": {},
     "output_type": "execute_result"
    }
   ],
   "source": [
    "solver = Solution\n",
    "nums = [2,0,2,1,1,0]\n",
    "solver.sortColors(solver,nums)\n",
    "nums"
   ]
  }
 ],
 "metadata": {
  "kernelspec": {
   "display_name": "Python 3 (ipykernel)",
   "language": "python",
   "name": "python3"
  },
  "language_info": {
   "codemirror_mode": {
    "name": "ipython",
    "version": 3
   },
   "file_extension": ".py",
   "mimetype": "text/x-python",
   "name": "python",
   "nbconvert_exporter": "python",
   "pygments_lexer": "ipython3",
   "version": "3.8.2"
  }
 },
 "nbformat": 4,
 "nbformat_minor": 5
}
